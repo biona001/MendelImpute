{
 "cells": [
  {
   "cell_type": "markdown",
   "metadata": {},
   "source": [
    "# Compare MendelImpute against Minimac4 and Beagle5 on simulated data"
   ]
  },
  {
   "cell_type": "code",
   "execution_count": 1,
   "metadata": {
    "collapsed": false
   },
   "outputs": [
    {
     "name": "stderr",
     "output_type": "stream",
     "text": [
      "┌ Warning: no Manifest.toml file found, static paths used\n",
      "└ @ Revise /Users/biona001/.julia/packages/Revise/439di/src/Revise.jl:1108\n",
      "┌ Info: Precompiling MendelImpute [e47305d1-6a61-5370-bc5d-77554d143183]\n",
      "└ @ Base loading.jl:1273\n"
     ]
    }
   ],
   "source": [
    "using Revise\n",
    "using VCFTools\n",
    "using MendelImpute\n",
    "using GeneticVariation\n",
    "using Random\n",
    "using SparseArrays\n",
    "using Plots"
   ]
  },
  {
   "cell_type": "markdown",
   "metadata": {},
   "source": [
    "# Simulate data\n",
    "\n",
    "### Step 0. Install `msprime`\n",
    "\n",
    "[msprime download Link](https://msprime.readthedocs.io/en/stable/installation.html).\n",
    "\n",
    "Some people might need to activate conda environment via `conda config --set auto_activate_base True`. You can turn it off once simulation is done by executing `conda config --set auto_activate_base False`.\n",
    "\n",
    "\n",
    "### Step 1. Simulate data in terminal\n",
    "\n",
    "```\n",
    "python3 msprime_script.py 4000 10000 5000000 2e-8 2e-8 2020 > ./compare5/haplo_ref.vcf\n",
    "```\n",
    "\n",
    "Arguments: \n",
    "+ Number of haplotypes = 4000\n",
    "+ Effective population size = 10000 ([source](https://www.the-scientist.com/the-nutshell/ancient-humans-more-diverse-43556))\n",
    "+ Sequence length = 10 million (same as Beagle 5's choice)\n",
    "+ Rrecombination rate = 2e-8 (default)\n",
    "+ mutation rate = 2e-8 (default)\n",
    "+ seed = 2019"
   ]
  },
  {
   "cell_type": "markdown",
   "metadata": {},
   "source": [
    "### Step 2: Convert simulated haplotypes to reference haplotypes and target genotype files\n",
    "\n",
    "+ `haplo_ref.vcf.gz`: haplotype reference files\n",
    "+ `target.vcf.gz`: complete genotype information\n",
    "+ `target_masked.vcf.gz`: the same as `target.vcf.gz` except some entries are masked"
   ]
  },
  {
   "cell_type": "code",
   "execution_count": 23,
   "metadata": {
    "collapsed": false
   },
   "outputs": [
    {
     "name": "stdout",
     "output_type": "stream",
     "text": [
      "  7.498143 seconds (141.75 M allocations: 12.415 GiB, 19.45% gc time)\n",
      "  1.016034 seconds (22.35 k allocations: 331.735 MiB, 16.66% gc time)\n"
     ]
    }
   ],
   "source": [
    "# import haplotypes and convert to .gz (because beagle throws dumb error when supplied with .vcf)\n",
    "@time H = convert_ht(Float32, \"./compare5/haplo_ref.vcf\", as_minorallele=false)\n",
    "\n",
    "# extract CHROM, POS, ID, REF, ALT info from ref VCF file\n",
    "vcffile = \"compare5/haplo_ref.vcf\"\n",
    "records = nrecords(vcffile)\n",
    "chrom   = Vector{String}(undef, records)\n",
    "pos     = zeros(Int, records)\n",
    "ids     = [\".\" for i in 1:records]\n",
    "refs    = Vector{String}(undef, records)\n",
    "alts    = Vector{String}(undef, records)\n",
    "reader  = VCF.Reader(openvcf(vcffile, \"r\"))\n",
    "for (i, record) in enumerate(reader)\n",
    "    pos[i]   = VCF.pos(record)\n",
    "    refs[i]  = VCF.ref(record)\n",
    "    alts[i]  = VCF.alt(record)[1]\n",
    "    chrom[i] = VCF.chrom(record)\n",
    "end\n",
    "close(reader)\n",
    "\n",
    "# simulate genotypes from haplotypes and write full genotype data to disk\n",
    "@time X = simulate_genotypes(H', 500)\n",
    "make_tgtvcf_file(X, vcffilename=\"./compare5/target.vcf.gz\", marker_chrom=chrom, \n",
    "      marker_pos=pos, marker_ID=ids, marker_REF=refs, marker_ALT=alts)\n",
    "\n",
    "# mask 10% entries\n",
    "p, n = size(X)\n",
    "Random.seed!(123)\n",
    "missingprop = 0.1\n",
    "X .= ifelse.(rand(Float32, p, n) .< missingprop, missing, X)\n",
    "masks = ismissing.(X)\n",
    "\n",
    "# save X to new VCF file\n",
    "mask_gt(\"./compare5/target.vcf.gz\", masks, des=\"./compare5/target_masked.vcf.gz\")"
   ]
  },
  {
   "cell_type": "markdown",
   "metadata": {},
   "source": [
    "# MendelImpute error"
   ]
  },
  {
   "cell_type": "code",
   "execution_count": 24,
   "metadata": {
    "collapsed": false
   },
   "outputs": [
    {
     "data": {
      "text/plain": [
       "500×35232 Array{Union{Missing, Float32},2}:\n",
       " 0.0       0.0       1.0       0.0       …  0.0       0.0       0.0       0.0\n",
       " 0.0       0.0        missing  0.0          0.0       0.0       0.0       0.0\n",
       "  missing  0.0       1.0       0.0          0.0       2.0       2.0       0.0\n",
       " 0.0       0.0       0.0       0.0           missing  1.0       1.0       0.0\n",
       " 0.0       0.0       0.0       0.0          0.0       1.0       1.0       0.0\n",
       " 0.0       0.0        missing  0.0       …  0.0       1.0        missing  0.0\n",
       " 0.0       0.0       0.0       0.0          0.0       2.0       2.0       0.0\n",
       " 0.0       0.0       1.0       0.0          0.0        missing  0.0       0.0\n",
       " 0.0       0.0       1.0       0.0          0.0       0.0       0.0       0.0\n",
       " 0.0       0.0       2.0       0.0          0.0        missing  0.0       0.0\n",
       " 0.0       0.0       1.0        missing  …  0.0        missing  0.0       0.0\n",
       " 0.0       0.0       1.0       0.0          0.0       2.0       2.0       0.0\n",
       " 0.0       0.0       0.0       0.0          0.0       0.0       0.0       0.0\n",
       " ⋮                                       ⋱                      ⋮            \n",
       " 0.0        missing  0.0       0.0          0.0       1.0       1.0       0.0\n",
       " 0.0       0.0       1.0       0.0          0.0       0.0       0.0       0.0\n",
       " 0.0       0.0       2.0       0.0       …  0.0       1.0       1.0       0.0\n",
       " 0.0       0.0       1.0       0.0          0.0       1.0       1.0       0.0\n",
       " 0.0       0.0       1.0       0.0          0.0       1.0       1.0       0.0\n",
       "  missing  0.0       1.0       0.0           missing  0.0       0.0       0.0\n",
       " 0.0       0.0       0.0       0.0          0.0       0.0       0.0       0.0\n",
       " 0.0       0.0        missing  0.0       …  0.0       2.0       2.0       0.0\n",
       " 0.0       0.0       0.0       0.0          0.0       1.0       1.0       0.0\n",
       " 0.0       0.0       1.0       0.0          0.0       2.0       2.0       0.0\n",
       " 0.0       0.0       2.0       0.0          0.0       1.0       1.0       0.0\n",
       " 0.0       0.0       0.0       0.0          0.0       1.0        missing  0.0"
      ]
     },
     "execution_count": 24,
     "metadata": {},
     "output_type": "execute_result"
    }
   ],
   "source": [
    "# read original target data (all entries observed)\n",
    "X_complete = convert_gt(Float32, \"./compare5/target.vcf.gz\"; as_minorallele=false)\n",
    "Xm = convert_gt(Float32, \"./compare5/target_masked.vcf.gz\"; as_minorallele=false)\n",
    "Xm_original = copy(Xm)"
   ]
  },
  {
   "cell_type": "code",
   "execution_count": 25,
   "metadata": {
    "collapsed": false
   },
   "outputs": [
    {
     "name": "stdout",
     "output_type": "stream",
     "text": [
      " 63.048888 seconds (269.70 M allocations: 24.845 GiB, 5.04% gc time)\n"
     ]
    },
    {
     "data": {
      "text/plain": [
       "9.741144414168938e-5"
      ]
     },
     "execution_count": 25,
     "metadata": {},
     "output_type": "execute_result"
    }
   ],
   "source": [
    "# impute\n",
    "tgtfile = \"./compare5/target_masked.vcf.gz\"\n",
    "reffile = \"./compare5/haplo_ref.vcf\"\n",
    "outfile = \"./compare5/imputed_target.vcf.gz\"\n",
    "width   = 400\n",
    "@time hs, ph = phase(tgtfile, reffile, impute=true, outfile = outfile, width = width);\n",
    "\n",
    "# import imputed result and compare with true\n",
    "X_mendel = convert_gt(Float32, outfile, as_minorallele=false)\n",
    "n, p = size(X_mendel)\n",
    "error_rate = sum(X_mendel .!= X_complete) / n / p"
   ]
  },
  {
   "cell_type": "markdown",
   "metadata": {},
   "source": [
    "# Beagle 5 error"
   ]
  },
  {
   "cell_type": "code",
   "execution_count": 26,
   "metadata": {
    "collapsed": false
   },
   "outputs": [
    {
     "name": "stdout",
     "output_type": "stream",
     "text": [
      "beagle.28Sep18.793.jar (version 5.0)\n",
      "Copyright (C) 2014-2018 Brian L. Browning\n",
      "Enter \"java -jar beagle.28Sep18.793.jar\" to list command line argument\n",
      "Start time: 07:18 PM PST on 22 Jan 2020\n",
      "\n",
      "Command line: java -Xmx3641m -jar beagle.28Sep18.793.jar\n",
      "  gt=./compare5/target_masked.vcf.gz\n",
      "  ref=./compare5/haplo_ref.vcf\n",
      "  out=./compare5/beagle.result\n",
      "\n",
      "No genetic map is specified: using 1 cM = 1 Mb\n",
      "\n",
      "Reference samples:       2,000\n",
      "Study samples:             500\n",
      "\n",
      "Window 1 (1:26-4999996)\n",
      "Reference markers:      35,232\n",
      "Study markers:          35,232\n",
      "\n",
      "Burnin  iteration 1:           1 minute 3 seconds\n",
      "Burnin  iteration 2:           34 seconds\n",
      "Burnin  iteration 3:           8 seconds\n",
      "Burnin  iteration 4:           10 seconds\n",
      "Burnin  iteration 5:           13 seconds\n",
      "Burnin  iteration 6:           13 seconds\n",
      "\n",
      "Phasing iteration 1:           8 seconds\n",
      "Phasing iteration 2:           9 seconds\n",
      "Phasing iteration 3:           9 seconds\n",
      "Phasing iteration 4:           8 seconds\n",
      "Phasing iteration 5:           8 seconds\n",
      "Phasing iteration 6:           8 seconds\n",
      "Phasing iteration 7:           7 seconds\n",
      "Phasing iteration 8:           7 seconds\n",
      "Phasing iteration 9:           7 seconds\n",
      "Phasing iteration 10:          7 seconds\n",
      "Phasing iteration 11:          6 seconds\n",
      "Phasing iteration 12:          6 seconds\n",
      "\n",
      "Cumulative Statistics:\n",
      "\n",
      "Study markers:          35,232\n",
      "\n",
      "Haplotype phasing time:        3 minutes 51 seconds\n",
      "Total time:                    4 minutes 1 second\n",
      "\n",
      "End time: 07:22 PM PST on 22 Jan 2020\n",
      "beagle.28Sep18.793.jar finished\n"
     ]
    },
    {
     "data": {
      "text/plain": [
       "1.055858310626703e-5"
      ]
     },
     "execution_count": 26,
     "metadata": {},
     "output_type": "execute_result"
    }
   ],
   "source": [
    "# run beagle 5 and import imputed data \n",
    "run(`java -jar beagle.28Sep18.793.jar gt=./compare5/target_masked.vcf.gz ref=./compare5/haplo_ref.vcf out=./compare5/beagle.result`)\n",
    "\n",
    "# beagle 5 error rate\n",
    "X_beagle = convert_gt(Float32, \"./compare5/beagle.result.vcf.gz\", as_minorallele=false)\n",
    "n, p = size(X_beagle)\n",
    "error_rate = sum(X_complete .!= X_beagle) / p / n"
   ]
  },
  {
   "cell_type": "markdown",
   "metadata": {},
   "source": [
    "# Minimac4 error\n",
    "\n",
    "Need to first convert reference vcf file to m3vcf using minimac3 (on Hoffman)\n",
    "\n",
    "```Julia\n",
    "minimac3 = \"/u/home/b/biona001/haplotype_comparisons/minimac3/Minimac3/bin/Minimac3\"\n",
    "@time run(`$minimac3 --refHaps haplo_ref.vcf --processReference --prefix haplo_ref`)\n",
    "```\n",
    "\n",
    "This took 382.633205 seconds. "
   ]
  },
  {
   "cell_type": "code",
   "execution_count": 36,
   "metadata": {
    "collapsed": false,
    "scrolled": false
   },
   "outputs": [
    {
     "name": "stdout",
     "output_type": "stream",
     "text": [
      "\n",
      "\n",
      " -------------------------------------------------------------------------------- \n",
      "          Minimac4 - Fast Imputation Based on State Space Reduction HMM\n",
      " --------------------------------------------------------------------------------\n",
      "           (c) 2014 - Sayantan Das, Christian Fuchsberger, David Hinds\n",
      "                             Mary Kate Wing, Goncalo Abecasis \n",
      "\n",
      " Version: 1.0.2;\n",
      " Built: Mon Sep 30 11:52:22 PDT 2019 by biona001\n",
      "\n",
      " Command Line Options: \n",
      "       Reference Haplotypes : --refHaps [./compare5/haplo_ref.m3vcf.gz],\n",
      "                              --passOnly, --rsid, --referenceEstimates [ON],\n",
      "                              --mapFile [docs/geneticMapFile.b38.map.txt.gz]\n",
      "          Target Haplotypes : --haps [./compare5/target_masked.vcf.gz]\n",
      "          Output Parameters : --prefix [./compare5/minimac4.result],\n",
      "                              --estimate, --nobgzip, --vcfBuffer [200],\n",
      "                              --format [GT,DS], --allTypedSites, --meta,\n",
      "                              --memUsage\n",
      "        Chunking Parameters : --ChunkLengthMb [20.00], --ChunkOverlapMb [3.00]\n",
      "          Subset Parameters : --chr [], --start, --end, --window\n",
      "   Approximation Parameters : --minimac3, --probThreshold [0.01],\n",
      "                              --diffThreshold [0.01], --topThreshold [0.01]\n",
      "           Other Parameters : --log, --help, --cpus [1], --params\n",
      "                  PhoneHome : --noPhoneHome, --phoneHomeThinning [50]\n",
      "\n",
      "\n",
      " URL = http://genome.sph.umich.edu/wiki/Minimac4\n",
      " Starting Main Imputation/Estimation Analysis ... \n",
      "\n",
      " Performing preliminary check on input parameters... \n",
      "\n",
      " ------------------------------------------------------------------------------\n",
      "                             PRELIMINARY FILE CHECK                            \n",
      " ------------------------------------------------------------------------------\n",
      "\n",
      " Checking GWAS haplotype file : ./compare5/target_masked.vcf.gz\n",
      "\n",
      " Gathering variant information ...\n",
      "\n",
      " Successful !!! \n",
      "\n",
      " Checking Reference haplotype file : ./compare5/haplo_ref.m3vcf.gz\n",
      "\n",
      " Gathering variant information ...\n",
      "\n",
      " Successful !!! \n",
      "\n",
      " Reference Panel   : Found 2000 samples (4000 haplotypes) and 35232 variants ...\n",
      "\n",
      " Target/GWAS Panel : Found 500 samples (1000 haplotypes) and 35232 variants ...\n",
      "                     35232 variants overlap with Reference panel \n",
      "                     0 variants imported that exist only in Target/GWAS panel\n",
      "\n",
      " ------------------------------------------------------------------------------\n",
      "                           CHUNKING INFORMATION                           \n",
      " ------------------------------------------------------------------------------\n",
      "\n",
      " Chunking region into 1 chunk(s) with atleast 35232 variants in each chunk ... \n",
      "\n",
      " Details of chunks is given below ...\n",
      "\n",
      " No   LeftBuffer      LeftEnd   RightPoint  RightBuffer       #Sites(GWAS/Ref/%)\n",
      " -------------------------------------------------------------------------------\n",
      "  1           26           26      4999996      4999996    35232/   35232/ 100.00%\n",
      "\n",
      "\n",
      " ------------------------------------------------------------------------------\n",
      "                           MAIN IMPUTATION ANALYSIS                            \n",
      " ------------------------------------------------------------------------------\n",
      "\n",
      " Starting imputation analysis of 1 chunk(s) ... \n",
      "\n",
      " -------------------------------------------\n",
      " Analyzing Chunk 1/1 [1:26-4999996]\n",
      " -------------------------------------------\n",
      "\n",
      " Reading chunk from reference panel ... \n",
      " Reading chunk from target/GWAS panel ... \n",
      "\n",
      " Compressing reference panel at GWAS sites ... \n",
      " Re-compression successful (71 seconds) !!!\n",
      "\n",
      " Starting Imputation ...\n",
      "\n",
      "  Imputing Samples 1-200 [40%] out of 500 samples ...\n",
      "       Saving Samples in temporary VCF file ... \n",
      "  Imputing Samples 201-400 [80%] out of 500 samples ...\n",
      "       Saving Samples in temporary VCF file ... \n",
      "  Imputing Samples 401-500 [100%] out of 500 samples ...\n",
      "       Saving Samples in temporary VCF file ... \n",
      "\n",
      " Imputation successful (553 seconds) !!!\n",
      "\n",
      " Appending chunk to final output VCF File :  ./compare5/minimac4.result.dose.vcf.gz \n",
      " Appending successful (2 seconds) !!!\n",
      "\n",
      " Time taken for this chunk = 629 seconds.\n",
      "\n",
      " ------------------------------------------------------------------------------\n",
      "                              SUMMARY OF ANALYSIS                              \n",
      " ------------------------------------------------------------------------------\n",
      "\n",
      " Info file written to                    : ./compare5/minimac4.result.info\n",
      " Imputed VCF information written to      : ./compare5/minimac4.result.dose.vcf.gz\n",
      "\n",
      " Time Taken for Reading File             = 5 seconds\n",
      " Time Taken for Re-compression           = 71 seconds\n",
      " Time Taken for Imputation               = 548 seconds\n",
      " Time Taken for Writing File             = 7 seconds\n",
      "\n",
      " ------------------------------------------------------------------------------\n",
      "                                END OF PROGRAM                                 \n",
      " ------------------------------------------------------------------------------\n",
      "\n",
      " Program Successfully Implemented... \n",
      " \n",
      " Total Run completed in 0 hours, 10 mins, 32 seconds.\n",
      "\n",
      " Thank You for using Minimac4 !!! \n",
      "\n"
     ]
    },
    {
     "data": {
      "text/plain": [
       "0.02930091961852861"
      ]
     },
     "execution_count": 36,
     "metadata": {},
     "output_type": "execute_result"
    }
   ],
   "source": [
    "# run minimac 4\n",
    "minimac4 = \"/Users/biona001/Benjamin_Folder/UCLA/research/softwares/Minimac4/build/minimac4\"\n",
    "run(`$minimac4 --refHaps ./compare5/haplo_ref.m3vcf.gz --haps ./compare5/target_masked.vcf.gz --prefix ./compare5/minimac4.result`)\n",
    "\n",
    "# calculate error\n",
    "X_minimac = convert_gt(Float32, \"./compare5/minimac4.result.dose.vcf.gz\", as_minorallele=false)\n",
    "error_rate = sum(X_complete .!= X_minimac) / n / p"
   ]
  },
  {
   "cell_type": "code",
   "execution_count": null,
   "metadata": {
    "collapsed": true
   },
   "outputs": [],
   "source": []
  }
 ],
 "metadata": {
  "@webio": {
   "lastCommId": null,
   "lastKernelId": null
  },
  "kernelspec": {
   "display_name": "Julia 1.3.0-rc4",
   "language": "julia",
   "name": "julia-1.3"
  },
  "language_info": {
   "file_extension": ".jl",
   "mimetype": "application/julia",
   "name": "julia",
   "version": "1.3.1"
  }
 },
 "nbformat": 4,
 "nbformat_minor": 2
}

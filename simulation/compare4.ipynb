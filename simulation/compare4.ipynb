{
 "cells": [
  {
   "cell_type": "markdown",
   "metadata": {},
   "source": [
    "# Compare MendelImpute against Minimac4 and Beagle5 on simulated data\n",
    "\n",
    "Here the genotype matrix is simulated using real haplotypes from chromosome 22 of the 1000 Genomes Phase 1 data reference haplotypes. The entire dataset can be [downloaded here](ftp://share.sph.umich.edu/minimac3/G1K_P1_VCF_Files.tar.gz) (4.15GB).\n"
   ]
  },
  {
   "cell_type": "code",
   "execution_count": 1,
   "metadata": {
    "collapsed": false
   },
   "outputs": [
    {
     "name": "stderr",
     "output_type": "stream",
     "text": [
      "┌ Warning: no Manifest.toml file found, static paths used\n",
      "└ @ Revise /Users/biona001/.julia/packages/Revise/439di/src/Revise.jl:1108\n",
      "┌ Info: Precompiling MendelImpute [e47305d1-6a61-5370-bc5d-77554d143183]\n",
      "└ @ Base loading.jl:1273\n"
     ]
    }
   ],
   "source": [
    "using Revise\n",
    "using VCFTools\n",
    "using MendelImpute\n",
    "using GeneticVariation\n",
    "using Random\n",
    "using SparseArrays\n",
    "using Plots"
   ]
  },
  {
   "cell_type": "code",
   "execution_count": 7,
   "metadata": {
    "collapsed": false
   },
   "outputs": [
    {
     "name": "stdout",
     "output_type": "stream",
     "text": [
      "nsamples(vcffile) = 1092\n",
      "nrecords(vcffile) = 365644\n"
     ]
    },
    {
     "data": {
      "text/plain": [
       "365644"
      ]
     },
     "execution_count": 7,
     "metadata": {},
     "output_type": "execute_result"
    }
   ],
   "source": [
    "vcffile = \"compare4/VCF_Files/ALL.chr22.phase1_v3.snps_indels_svs.genotypes.all.noSingleton.vcf.gz\"\n",
    "@show nsamples(vcffile)\n",
    "@show nrecords(vcffile)"
   ]
  },
  {
   "cell_type": "markdown",
   "metadata": {},
   "source": [
    "# Simulate data\n",
    "\n",
    "Reference haplotypes are obtained from the 1000 genomes project as above. We use this haplotype matrix to construct a genotype matrix matrix with 100 samples. The genotype matrix are randomly masked to generate the missing values. The result is stored in 3 files:\n",
    "\n",
    "+ `ALL.chr22.phase1_v3.snps_indels_svs.genotypes.all.noSingleton.vcf.gz`: haplotype reference files\n",
    "+ `target.vcf.gz`: complete genotype information\n",
    "+ `target_masked.vcf.gz`: the same as `target.vcf.gz` except some entries are masked"
   ]
  },
  {
   "cell_type": "code",
   "execution_count": 2,
   "metadata": {
    "collapsed": false
   },
   "outputs": [
    {
     "name": "stdout",
     "output_type": "stream",
     "text": [
      " 52.578988 seconds (813.83 M allocations: 73.839 GiB, 17.03% gc time)\n",
      "  1.787696 seconds (1.44 M allocations: 477.925 MiB, 1.58% gc time)\n",
      "  0.850494 seconds (807.98 k allocations: 914.419 MiB, 2.87% gc time)\n"
     ]
    }
   ],
   "source": [
    "# import haplotype matrix and simulate genotype matrix\n",
    "@time H = convert_ht(Bool, \"compare4/VCF_Files/ALL.chr22.phase1_v3.snps_indels_svs.genotypes.all.noSingleton.vcf.gz\")\n",
    "@time X = simulate_genotypes(H', 100)\n",
    "\n",
    "# randomly mask entries\n",
    "Random.seed!(2020)\n",
    "missingprop = 0.1\n",
    "snps, people = size(X)\n",
    "@time Xm = ifelse.(rand(snps, people) .< missingprop, missing, X);"
   ]
  },
  {
   "cell_type": "code",
   "execution_count": 42,
   "metadata": {
    "collapsed": false
   },
   "outputs": [
    {
     "name": "stdout",
     "output_type": "stream",
     "text": [
      "  7.101095 seconds (805.33 k allocations: 37.253 MiB)\n",
      " 10.362518 seconds (733.25 k allocations: 33.556 MiB, 0.19% gc time)\n"
     ]
    }
   ],
   "source": [
    "# extract CHROM, POS, ID, REF, ALT info from ref VCF file\n",
    "vcffile = \"compare4/VCF_Files/ALL.chr22.phase1_v3.snps_indels_svs.genotypes.all.noSingleton.vcf.gz\"\n",
    "records = nrecords(vcffile)\n",
    "chrom   = [\"22\" for i in 1:records]\n",
    "pos     = zeros(Int, records)\n",
    "ids     = Vector{String}(undef, records)\n",
    "refs    = Vector{String}(undef, records)\n",
    "alts    = Vector{String}(undef, records)\n",
    "reader  = VCF.Reader(openvcf(vcffile, \"r\"))\n",
    "for (i, record) in enumerate(reader)\n",
    "    pos[i]   = VCF.pos(record)\n",
    "    ids[i]   = VCF.id(record)[1]\n",
    "    refs[i]  = VCF.ref(record)\n",
    "    alts[i]  = VCF.alt(record)[1]\n",
    "end\n",
    "\n",
    "# write simulated genotype matrices to disk\n",
    "@time make_tgtvcf_file(X, vcffilename=\"./compare4/target.vcf.gz\", marker_chrom=chrom, \n",
    "      marker_pos=pos, marker_ID=ids, marker_REF=refs, marker_ALT=alts)\n",
    "@time make_tgtvcf_file(Xm, vcffilename=\"./compare4/target_masked.vcf.gz\", marker_chrom=chrom, \n",
    "      marker_pos=pos, marker_ID=ids, marker_REF=refs, marker_ALT=alts)"
   ]
  },
  {
   "cell_type": "markdown",
   "metadata": {},
   "source": [
    "# MendelImpute error"
   ]
  },
  {
   "cell_type": "code",
   "execution_count": 4,
   "metadata": {
    "collapsed": false
   },
   "outputs": [
    {
     "data": {
      "text/plain": [
       "100×365644 Array{Union{Missing, Float32},2}:\n",
       " 0.0       0.0       0.0       0.0       …  0.0       0.0       0.0     \n",
       "  missing  0.0       0.0       0.0          0.0       0.0       0.0     \n",
       " 0.0        missing  0.0       0.0          0.0        missing  0.0     \n",
       " 0.0       0.0       0.0       0.0          0.0       0.0       0.0     \n",
       " 0.0       0.0       0.0        missing     0.0       0.0        missing\n",
       " 0.0       1.0       0.0       0.0       …  0.0       0.0        missing\n",
       " 0.0       1.0       0.0       0.0          0.0       0.0        missing\n",
       " 0.0       0.0       0.0       0.0          0.0        missing  0.0     \n",
       " 0.0       0.0       0.0       0.0          0.0       0.0       0.0     \n",
       " 0.0       0.0       0.0       0.0          0.0       0.0       0.0     \n",
       " 0.0        missing   missing  0.0       …  0.0       0.0       0.0     \n",
       " 0.0       0.0        missing  0.0          0.0       0.0       0.0     \n",
       " 0.0       0.0       0.0       0.0          0.0        missing  0.0     \n",
       " ⋮                                       ⋱                              \n",
       " 0.0       0.0       0.0       0.0          0.0       0.0       0.0     \n",
       " 0.0       1.0        missing  0.0          0.0        missing  0.0     \n",
       " 0.0       0.0       0.0       0.0       …  0.0       0.0       0.0     \n",
       " 0.0       0.0       0.0       0.0          0.0       0.0       0.0     \n",
       " 0.0       1.0       0.0        missing      missing  0.0       0.0     \n",
       " 0.0       0.0        missing  0.0          0.0       0.0       1.0     \n",
       " 0.0       0.0       0.0       0.0          0.0       0.0       0.0     \n",
       " 0.0       0.0       0.0       0.0       …  0.0       0.0       0.0     \n",
       " 0.0       0.0       0.0       0.0          0.0       0.0       0.0     \n",
       " 0.0       0.0       0.0       0.0          0.0       0.0       0.0     \n",
       " 1.0       1.0       1.0       0.0          0.0       0.0       0.0     \n",
       " 0.0       0.0       0.0       0.0          0.0       0.0       0.0     "
      ]
     },
     "execution_count": 4,
     "metadata": {},
     "output_type": "execute_result"
    }
   ],
   "source": [
    "# read original target data (all entries observed)\n",
    "X_complete = convert_gt(Float32, \"./compare4/target.vcf.gz\"; as_minorallele=false)\n",
    "Xm = convert_gt(Float32, \"./compare4/target_masked.vcf.gz\"; as_minorallele=false)\n",
    "Xm_original = copy(Xm)"
   ]
  },
  {
   "cell_type": "markdown",
   "metadata": {},
   "source": [
    "### Fastest code with flanking windows"
   ]
  },
  {
   "cell_type": "code",
   "execution_count": 8,
   "metadata": {
    "collapsed": false
   },
   "outputs": [
    {
     "name": "stdout",
     "output_type": "stream",
     "text": [
      "366.124572 seconds (1.08 G allocations: 104.805 GiB, 3.45% gc time)\n"
     ]
    },
    {
     "data": {
      "text/plain": [
       "7.559265296299132e-5"
      ]
     },
     "execution_count": 8,
     "metadata": {},
     "output_type": "execute_result"
    }
   ],
   "source": [
    "# impute\n",
    "tgtfile = \"./compare4/target_masked.vcf.gz\"\n",
    "reffile = \"./compare4/VCF_Files/ALL.chr22.phase1_v3.snps_indels_svs.genotypes.all.noSingleton.vcf.gz\"\n",
    "outfile = \"./compare4/imputed_target.vcf.gz\"\n",
    "width   = 400\n",
    "@time hs, ph = phase(tgtfile, reffile, impute=true, outfile = outfile, width = width);\n",
    "\n",
    "# import imputed result and compare with true\n",
    "X_mendel = convert_gt(Float32, outfile, as_minorallele=false)\n",
    "n, p = size(X_mendel)\n",
    "error_rate = sum(X_complete .!= X_mendel) / p / n"
   ]
  },
  {
   "cell_type": "markdown",
   "metadata": {},
   "source": [
    "### Most accurate code with flanking windows"
   ]
  },
  {
   "cell_type": "code",
   "execution_count": 15,
   "metadata": {
    "collapsed": false
   },
   "outputs": [
    {
     "name": "stdout",
     "output_type": "stream",
     "text": [
      "356.042449 seconds (1.11 G allocations: 105.721 GiB, 3.22% gc time)\n"
     ]
    },
    {
     "data": {
      "text/plain": [
       "7.181849011606919e-5"
      ]
     },
     "execution_count": 15,
     "metadata": {},
     "output_type": "execute_result"
    }
   ],
   "source": [
    "# impute\n",
    "tgtfile = \"./compare4/target_masked.vcf.gz\"\n",
    "reffile = \"./compare4/VCF_Files/ALL.chr22.phase1_v3.snps_indels_svs.genotypes.all.noSingleton.vcf.gz\"\n",
    "outfile = \"./compare4/imputed_target.vcf.gz\"\n",
    "width   = 400\n",
    "@time hs, ph = phase(tgtfile, reffile, impute=true, outfile = outfile, width = width);\n",
    "\n",
    "# import imputed result and compare with true\n",
    "X_mendel = convert_gt(Float32, outfile, as_minorallele=false)\n",
    "n, p = size(X_mendel)\n",
    "error_rate = sum(X_complete .!= X_mendel) / p / n"
   ]
  },
  {
   "cell_type": "markdown",
   "metadata": {},
   "source": [
    "# Beagle 5 error\n",
    "\n",
    "Beagle requires >14GB of RAM to run. Thus it can only be done on hoffman."
   ]
  },
  {
   "cell_type": "code",
   "execution_count": null,
   "metadata": {
    "collapsed": true
   },
   "outputs": [],
   "source": [
    "# following took 24 minutes 22 seconds on n7080 of Hoffman2 using 30GB\n",
    "run(`java -Xmx14g -jar beagle.28Sep18.793.jar gt=./compare4/target_masked.vcf.gz ref=./compare4/VCF_Files/ALL.chr22.phase1_v3.snps_indels_svs.genotypes.all.noSingleton.vcf.gz out=./compare4/beagle.result`)"
   ]
  },
  {
   "cell_type": "code",
   "execution_count": 11,
   "metadata": {
    "collapsed": false
   },
   "outputs": [
    {
     "data": {
      "text/plain": [
       "6.837251534279245e-7"
      ]
     },
     "execution_count": 11,
     "metadata": {},
     "output_type": "execute_result"
    }
   ],
   "source": [
    "# beagle 5 error rate\n",
    "X_complete = convert_gt(Float32, \"./compare4/target.vcf.gz\"; as_minorallele=false)\n",
    "X_beagle = convert_gt(Float32, \"./compare4/beagle.result.vcf.gz\", as_minorallele=false)\n",
    "n, p = size(X_complete)\n",
    "error_rate = sum(X_complete .!= X_beagle) / p / n"
   ]
  },
  {
   "cell_type": "markdown",
   "metadata": {},
   "source": [
    "# Minimac4 error\n",
    "\n",
    "Need to first convert reference vcf file to m3vcf using minimac3 (on Hoffman)\n",
    "\n",
    "```Julia\n",
    "minimac3 = \"/u/home/b/biona001/haplotype_comparisons/minimac3/Minimac3/bin/Minimac3\"\n",
    "@time run(`$minimac3 --refHaps ALL.chr22.phase1_v3.snps_indels_svs.genotypes.all.noSingleton.vcf.gz --processReference --prefix haplo_ref`)\n",
    "\n",
    "#on n4034: 2675.055412 seconds (15.31 k allocations: 861.116 KiB)\n",
    "```"
   ]
  },
  {
   "cell_type": "code",
   "execution_count": 44,
   "metadata": {
    "collapsed": false,
    "scrolled": true
   },
   "outputs": [
    {
     "name": "stdout",
     "output_type": "stream",
     "text": [
      "\n",
      "\n",
      " -------------------------------------------------------------------------------- \n",
      "          Minimac4 - Fast Imputation Based on State Space Reduction HMM\n",
      " --------------------------------------------------------------------------------\n",
      "           (c) 2014 - Sayantan Das, Christian Fuchsberger, David Hinds\n",
      "                             Mary Kate Wing, Goncalo Abecasis \n",
      "\n",
      " Version: 1.0.2;\n",
      " Built: Mon Sep 30 11:52:22 PDT 2019 by biona001\n",
      "\n",
      " Command Line Options: \n",
      "       Reference Haplotypes : --refHaps [./compare4/ALL.chr22.phase1_v3.snps_indels_svs.genotypes.all.noSingleton.m3vcf.gz],\n",
      "                              --passOnly, --rsid, --referenceEstimates [ON],\n",
      "                              --mapFile [docs/geneticMapFile.b38.map.txt.gz]\n",
      "          Target Haplotypes : --haps [./compare4/target_masked.vcf.gz]\n",
      "          Output Parameters : --prefix [./compare4/minimac4.result],\n",
      "                              --estimate, --nobgzip, --vcfBuffer [200],\n",
      "                              --format [GT,DS], --allTypedSites, --meta,\n",
      "                              --memUsage\n",
      "        Chunking Parameters : --ChunkLengthMb [20.00], --ChunkOverlapMb [3.00]\n",
      "          Subset Parameters : --chr [], --start, --end, --window\n",
      "   Approximation Parameters : --minimac3, --probThreshold [0.01],\n",
      "                              --diffThreshold [0.01], --topThreshold [0.01]\n",
      "           Other Parameters : --log, --help, --cpus [1], --params\n",
      "                  PhoneHome : --noPhoneHome, --phoneHomeThinning [50]\n",
      "\n",
      "\n",
      " URL = http://genome.sph.umich.edu/wiki/Minimac4\n",
      " Starting Main Imputation/Estimation Analysis ... \n",
      "\n",
      " Performing preliminary check on input parameters... \n",
      "\n",
      " ------------------------------------------------------------------------------\n",
      "                             PRELIMINARY FILE CHECK                            \n",
      " ------------------------------------------------------------------------------\n",
      "\n",
      " Checking GWAS haplotype file : ./compare4/target_masked.vcf.gz\n",
      "\n",
      " Gathering variant information ...\n",
      "\n",
      " Successful !!! \n",
      "\n",
      " Checking Reference haplotype file : ./compare4/ALL.chr22.phase1_v3.snps_indels_svs.genotypes.all.noSingleton.m3vcf.gz\n",
      "\n",
      " Gathering variant information ...\n",
      "\n",
      " Successful !!! \n",
      "\n",
      " Reference Panel   : Found 1092 samples (2184 haplotypes) and 365644 variants ...\n",
      "\n",
      " Target/GWAS Panel : Found 100 samples (200 haplotypes) and 365644 variants ...\n",
      "                     365644 variants overlap with Reference panel \n",
      "                     0 variants imported that exist only in Target/GWAS panel\n",
      "\n",
      " ------------------------------------------------------------------------------\n",
      "                           CHUNKING INFORMATION                           \n",
      " ------------------------------------------------------------------------------\n",
      "\n",
      " Chunking region into 1 chunk(s) with atleast 365644 variants in each chunk ... \n",
      "\n",
      " Details of chunks is given below ...\n",
      "\n",
      " No   LeftBuffer      LeftEnd   RightPoint  RightBuffer       #Sites(GWAS/Ref/%)\n",
      " -------------------------------------------------------------------------------\n",
      "  1     16050408     16050408     51243297     51243297   365644/  365644/ 100.00%\n",
      "\n",
      "\n",
      " ------------------------------------------------------------------------------\n",
      "                           MAIN IMPUTATION ANALYSIS                            \n",
      " ------------------------------------------------------------------------------\n",
      "\n",
      " Starting imputation analysis of 1 chunk(s) ... \n",
      "\n",
      " -------------------------------------------\n",
      " Analyzing Chunk 1/1 [22:16050408-51243297]\n",
      " -------------------------------------------\n",
      "\n",
      " Reading chunk from reference panel ... \n",
      " Reading chunk from target/GWAS panel ... \n",
      "\n",
      " Compressing reference panel at GWAS sites ... \n",
      " Re-compression successful (306 seconds) !!!\n",
      "\n",
      " Starting Imputation ...\n",
      "\n",
      "  Imputing Samples 1-100 [100%] out of 100 samples ...\n",
      "       Saving Samples in temporary VCF file ... \n",
      "\n",
      " Imputation successful (996 seconds) !!!\n",
      "\n",
      " Appending chunk to final output VCF File :  ./compare4/minimac4.result.dose.vcf.gz \n",
      " Appending successful (4 seconds) !!!\n",
      "\n",
      " Time taken for this chunk = 1317 seconds.\n",
      "\n",
      " ------------------------------------------------------------------------------\n",
      "                              SUMMARY OF ANALYSIS                              \n",
      " ------------------------------------------------------------------------------\n",
      "\n",
      " Info file written to                    : ./compare4/minimac4.result.info\n",
      " Imputed VCF information written to      : ./compare4/minimac4.result.dose.vcf.gz\n",
      "\n",
      " Time Taken for Reading File             = 19 seconds\n",
      " Time Taken for Re-compression           = 306 seconds\n",
      " Time Taken for Imputation               = 986 seconds\n",
      " Time Taken for Writing File             = 14 seconds\n",
      "\n",
      " ------------------------------------------------------------------------------\n",
      "                                END OF PROGRAM                                 \n",
      " ------------------------------------------------------------------------------\n",
      "\n",
      " Program Successfully Implemented... \n",
      " \n",
      " Total Run completed in 0 hours, 22 mins, 12 seconds.\n",
      "\n",
      " Thank You for using Minimac4 !!! \n",
      "\n"
     ]
    },
    {
     "data": {
      "text/plain": [
       "Process(`\u001b[4m/Users/biona001/Benjamin_Folder/UCLA/research/softwares/Minimac4/build/minimac4\u001b[24m \u001b[4m--refHaps\u001b[24m \u001b[4m./compare4/ALL.chr22.phase1_v3.snps_indels_svs.genotypes.all.noSingleton.m3vcf.gz\u001b[24m \u001b[4m--haps\u001b[24m \u001b[4m./compare4/target_masked.vcf.gz\u001b[24m \u001b[4m--prefix\u001b[24m \u001b[4m./compare4/minimac4.result\u001b[24m`, ProcessExited(0))"
      ]
     },
     "execution_count": 44,
     "metadata": {},
     "output_type": "execute_result"
    }
   ],
   "source": [
    "# run minimac 4\n",
    "minimac4 = \"/Users/biona001/Benjamin_Folder/UCLA/research/softwares/Minimac4/build/minimac4\"\n",
    "run(`$minimac4 --refHaps ./compare4/ALL.chr22.phase1_v3.snps_indels_svs.genotypes.all.noSingleton.m3vcf.gz --haps ./compare4/target_masked.vcf.gz --prefix ./compare4/minimac4.result`)"
   ]
  },
  {
   "cell_type": "code",
   "execution_count": 2,
   "metadata": {
    "collapsed": false
   },
   "outputs": [
    {
     "data": {
      "text/plain": [
       "0.011691317237531588"
      ]
     },
     "execution_count": 2,
     "metadata": {},
     "output_type": "execute_result"
    }
   ],
   "source": [
    "X_complete = convert_gt(Float32, \"./compare4/target.vcf.gz\"; as_minorallele=false)\n",
    "X_minimac = convert_gt(Float32, \"./compare4/minimac4.result.dose.vcf.gz\", as_minorallele=false)\n",
    "n, p = size(X_complete)\n",
    "error_rate = sum(X_complete .!= X_minimac) / n / p"
   ]
  },
  {
   "cell_type": "code",
   "execution_count": null,
   "metadata": {
    "collapsed": true
   },
   "outputs": [],
   "source": []
  }
 ],
 "metadata": {
  "@webio": {
   "lastCommId": null,
   "lastKernelId": null
  },
  "kernelspec": {
   "display_name": "Julia 1.3.0-rc4",
   "language": "julia",
   "name": "julia-1.3"
  },
  "language_info": {
   "file_extension": ".jl",
   "mimetype": "application/julia",
   "name": "julia",
   "version": "1.3.1"
  }
 },
 "nbformat": 4,
 "nbformat_minor": 2
}

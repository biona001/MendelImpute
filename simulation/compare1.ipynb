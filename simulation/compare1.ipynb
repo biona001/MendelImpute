{
 "cells": [
  {
   "cell_type": "markdown",
   "metadata": {},
   "source": [
    "# Compare MendelImpute against Minimac4 and Beagle5 on simulated data"
   ]
  },
  {
   "cell_type": "code",
   "execution_count": 1,
   "metadata": {
    "collapsed": false,
    "scrolled": true
   },
   "outputs": [
    {
     "name": "stderr",
     "output_type": "stream",
     "text": [
      "┌ Info: Precompiling MendelImpute [e47305d1-6a61-5370-bc5d-77554d143183]\n",
      "└ @ Base loading.jl:1273\n"
     ]
    }
   ],
   "source": [
    "using Revise\n",
    "using VCFTools\n",
    "using MendelImpute\n",
    "using GeneticVariation\n",
    "using Random\n",
    "using SparseArrays\n",
    "using JLD2, FileIO, JLSO\n",
    "using ProgressMeter\n",
    "using GroupSlices\n",
    "using ThreadPools\n",
    "# using Plots\n",
    "# using ProfileView"
   ]
  },
  {
   "cell_type": "markdown",
   "metadata": {},
   "source": [
    "# Simulate data\n",
    "\n",
    "### Step 0. Install `msprime`\n",
    "\n",
    "[msprime download Link](https://msprime.readthedocs.io/en/stable/installation.html).\n",
    "\n",
    "Some people might need to activate conda environment via `conda config --set auto_activate_base True`. You can turn it off once simulation is done by executing `conda config --set auto_activate_base False`.\n",
    "\n",
    "\n",
    "### Step 1. Simulate data in terminal\n",
    "\n",
    "```\n",
    "python3 msprime_script.py 4000 10000 5000000 2e-8 2e-8 2019 > full.vcf\n",
    "```\n",
    "\n",
    "Arguments: \n",
    "+ Number of haplotypes = 40000\n",
    "+ Effective population size = 10000 ([source](https://www.the-scientist.com/the-nutshell/ancient-humans-more-diverse-43556))\n",
    "+ Sequence length = 10 million (same as Beagle 5's choice)\n",
    "+ Rrecombination rate = 2e-8 (default)\n",
    "+ mutation rate = 2e-8 (default)\n",
    "+ seed = 2019"
   ]
  },
  {
   "cell_type": "markdown",
   "metadata": {},
   "source": [
    "### Step 2: Convert simulated haplotypes to reference haplotypes and target genotype files\n",
    "\n",
    "+ `haplo_ref.vcf.gz`: haplotype reference files\n",
    "+ `target.vcf.gz`: complete genotype information\n",
    "+ `target_masked.vcf.gz`: the same as `target.vcf.gz` except some entries are masked"
   ]
  },
  {
   "cell_type": "code",
   "execution_count": 4,
   "metadata": {
    "collapsed": false
   },
   "outputs": [
    {
     "name": "stdout",
     "output_type": "stream",
     "text": [
      "records = 35897\n",
      "samples = 2000\n",
      " 70.297829 seconds (397.28 M allocations: 33.310 GiB, 11.51% gc time)\n",
      " 67.404677 seconds (395.78 M allocations: 33.237 GiB, 11.69% gc time)\n",
      " 18.210343 seconds (144.39 M allocations: 12.666 GiB, 17.95% gc time)\n"
     ]
    }
   ],
   "source": [
    "records, samples = nrecords(\"./compare1/full.vcf\"), nsamples(\"./compare1/full.vcf\")\n",
    "@show records\n",
    "@show samples;\n",
    "\n",
    "# compute target and reference index\n",
    "tgt_index = falses(samples)\n",
    "tgt_index[samples-999:end] .= true\n",
    "ref_index = .!tgt_index\n",
    "record_index = trues(records) # save all records (SNPs) \n",
    "\n",
    "# create target.vcf.gz and haplo_ref.vcf.gz\n",
    "@time VCFTools.filter(\"./compare1/full.vcf\", record_index, tgt_index, des = \"./compare1/target.vcf.gz\")\n",
    "@time VCFTools.filter(\"./compare1/full.vcf\", record_index, ref_index, des = \"./compare1/haplo_ref.vcf.gz\")\n",
    "\n",
    "# import full target matrix. Also transpose so that columns are samples. \n",
    "@time X = convert_gt(Float32, \"target.vcf.gz\"; as_minorallele=false)\n",
    "X = copy(X')\n",
    "\n",
    "# mask 10% entries\n",
    "p, n = size(X)\n",
    "Random.seed!(123)\n",
    "missingprop = 0.1\n",
    "X .= ifelse.(rand(Float32, p, n) .< missingprop, missing, X)\n",
    "masks = ismissing.(X)\n",
    "\n",
    "# save X to new VCF file\n",
    "mask_gt(\"target.vcf.gz\", masks, des=\"target_masked.vcf.gz\")"
   ]
  },
  {
   "cell_type": "markdown",
   "metadata": {},
   "source": [
    "# Try compressing haplotype ref panels"
   ]
  },
  {
   "cell_type": "code",
   "execution_count": 12,
   "metadata": {
    "collapsed": false
   },
   "outputs": [
    {
     "name": "stderr",
     "output_type": "stream",
     "text": [
      "\u001b[32mimporting reference data...100%|████████████████████████| Time: 0:00:06\u001b[39m\n",
      "\u001b[32mImporting genotype file...100%|█████████████████████████| Time: 0:00:06\u001b[39m\n"
     ]
    },
    {
     "name": "stdout",
     "output_type": "stream",
     "text": [
      " 19.165787 seconds (154.79 M allocations: 11.436 GiB, 7.42% gc time)\n"
     ]
    }
   ],
   "source": [
    "# compress as jld2\n",
    "reffile = \"./compare1/haplo_ref.vcf.gz\"\n",
    "tgtfile = \"./compare1/target_masked.vcf.gz\"\n",
    "outfile = \"./compare1/haplo_ref.jld2\"\n",
    "width = 512\n",
    "@time compress_haplotypes(reffile, tgtfile, outfile, width);"
   ]
  },
  {
   "cell_type": "code",
   "execution_count": 13,
   "metadata": {
    "collapsed": false
   },
   "outputs": [
    {
     "name": "stderr",
     "output_type": "stream",
     "text": [
      "\u001b[32mimporting reference data...100%|████████████████████████| Time: 0:00:06\u001b[39m\n",
      "\u001b[32mImporting genotype file...100%|█████████████████████████| Time: 0:00:06\u001b[39m\n"
     ]
    },
    {
     "name": "stdout",
     "output_type": "stream",
     "text": [
      " 18.817403 seconds (152.23 M allocations: 11.387 GiB, 7.13% gc time)\n"
     ]
    }
   ],
   "source": [
    "# compress as jlso\n",
    "reffile = \"./compare1/haplo_ref.vcf.gz\"\n",
    "tgtfile = \"./compare1/target_masked.vcf.gz\"\n",
    "outfile = \"./compare1/haplo_ref.jlso\"\n",
    "width = 512\n",
    "@time compress_haplotypes(reffile, tgtfile, outfile, width);"
   ]
  },
  {
   "cell_type": "code",
   "execution_count": 14,
   "metadata": {
    "collapsed": false
   },
   "outputs": [
    {
     "name": "stderr",
     "output_type": "stream",
     "text": [
      "\u001b[32mimporting reference data...100%|████████████████████████| Time: 0:00:06\u001b[39m\n",
      "\u001b[32mImporting genotype file...100%|█████████████████████████| Time: 0:00:06\u001b[39m\n"
     ]
    },
    {
     "name": "stdout",
     "output_type": "stream",
     "text": [
      "  6.430602 seconds (978.23 k allocations: 2.129 GiB, 3.79% gc time)\n",
      "  4.639667 seconds (836.07 k allocations: 1.126 GiB, 7.78% gc time)\n",
      "  3.349600 seconds (700.40 k allocations: 619.415 MiB, 1.92% gc time)\n",
      "  2.739742 seconds (583.56 k allocations: 360.084 MiB, 1.68% gc time)\n",
      "  2.359550 seconds (471.87 k allocations: 211.756 MiB, 1.36% gc time)\n"
     ]
    }
   ],
   "source": [
    "# compress as jlso\n",
    "function compress()\n",
    "    widths  = [32, 64, 128, 256, 512]\n",
    "    reffile = \"./compare1/haplo_ref.vcf.gz\"\n",
    "    tgtfile = \"./compare1/target_masked.vcf.gz\"\n",
    "    H, H_sampleID, H_chr, H_pos, H_ids, H_ref, H_alt = convert_ht(Bool, reffile, trans=true, save_snp_info=true, msg=\"importing reference data...\")\n",
    "    X, X_sampleID, X_chr, X_pos, X_ids, X_ref, X_alt = VCFTools.convert_gt(UInt8, tgtfile, trans=true, save_snp_info=true, msg = \"Importing genotype file...\")\n",
    "    for width in widths\n",
    "        outfile = \"./compare1/haplo_ref.w$width.jlso\"\n",
    "        @time compress_haplotypes(H, X, outfile, X_pos, H_sampleID, H_chr, H_pos, H_ids, H_ref, H_alt, width)\n",
    "    end\n",
    "end\n",
    "compress()"
   ]
  },
  {
   "cell_type": "code",
   "execution_count": 18,
   "metadata": {
    "collapsed": false
   },
   "outputs": [
    {
     "name": "stdout",
     "output_type": "stream",
     "text": [
      "  0.088776 seconds (774.50 k allocations: 58.516 MiB)\n"
     ]
    }
   ],
   "source": [
    "# load jld2\n",
    "@time @load \"./compare1/haplo_ref.jld2\" compressed_Hunique;"
   ]
  },
  {
   "cell_type": "code",
   "execution_count": 20,
   "metadata": {
    "collapsed": false
   },
   "outputs": [
    {
     "name": "stdout",
     "output_type": "stream",
     "text": [
      "  0.225266 seconds (612.38 k allocations: 38.652 MiB, 19.15% gc time)\n"
     ]
    }
   ],
   "source": [
    "# load jlso\n",
    "@time loaded = JLSO.load(\"./compare1/haplo_ref.jlso\")\n",
    "compressed_Hunique = loaded[:compressed_Hunique];"
   ]
  },
  {
   "cell_type": "code",
   "execution_count": 21,
   "metadata": {
    "collapsed": false
   },
   "outputs": [
    {
     "name": "stdout",
     "output_type": "stream",
     "text": [
      "-rw-r--r--  1 biona001  staff  23098725 Jul  2 20:58 ./compare1/haplo_ref.jld2\n"
     ]
    }
   ],
   "source": [
    ";ls -al ./compare1/haplo_ref.jld2"
   ]
  },
  {
   "cell_type": "code",
   "execution_count": 22,
   "metadata": {
    "collapsed": false
   },
   "outputs": [
    {
     "name": "stdout",
     "output_type": "stream",
     "text": [
      "-rw-r--r--  1 biona001  staff  1959743 Jul  2 20:58 ./compare1/haplo_ref.jlso\n"
     ]
    }
   ],
   "source": [
    ";ls -al ./compare1/haplo_ref.jlso"
   ]
  },
  {
   "cell_type": "code",
   "execution_count": 23,
   "metadata": {
    "collapsed": false
   },
   "outputs": [
    {
     "name": "stdout",
     "output_type": "stream",
     "text": [
      "-rw-r--r--@ 1 biona001  staff  5449864 Apr  5 19:59 ./compare1/haplo_ref.vcf.gz\n"
     ]
    }
   ],
   "source": [
    ";ls -al ./compare1/haplo_ref.vcf.gz"
   ]
  },
  {
   "cell_type": "markdown",
   "metadata": {},
   "source": [
    "# Haplotype thinning (experiment)"
   ]
  },
  {
   "cell_type": "code",
   "execution_count": 4,
   "metadata": {
    "collapsed": false
   },
   "outputs": [
    {
     "name": "stderr",
     "output_type": "stream",
     "text": [
      "\u001b[32mImporting genotype file...100%|█████████████████████████| Time: 0:00:07\u001b[39m\n"
     ]
    },
    {
     "name": "stdout",
     "output_type": "stream",
     "text": [
      "Total windows = 70, averaging ~ 324 unique haplotypes per window.\n",
      "\n",
      "Timings: \n",
      "    Data import                     = 7.94385 seconds\n",
      "    Computing haplotype pair        = 3.78641 seconds\n",
      "        computing dist(X, H)           = 0.0803656 seconds per thread\n",
      "        BLAS3 mul! to get M and N      = 2.79965 seconds per thread\n",
      "        haplopair search               = 0.0902262 seconds per thread\n",
      "        finding redundant happairs     = 0.050725 seconds per thread\n",
      "    Phasing by dynamic programming  = 1.34666 seconds\n",
      "    Imputation                      = 3.32163 seconds\n",
      "\n",
      " 16.552239 seconds (74.83 M allocations: 6.717 GiB, 5.34% gc time)\n"
     ]
    },
    {
     "data": {
      "text/plain": [
       "0.00012427222330556873"
      ]
     },
     "execution_count": 4,
     "metadata": {},
     "output_type": "execute_result"
    }
   ],
   "source": [
    "# haplopair_thin (doesn't accounts for allele freq), keep = 100 (1 thread)\n",
    "Random.seed!(2020)\n",
    "tgtfile = \"./compare1/target_masked.vcf.gz\"\n",
    "reffile = \"./compare1/haplo_ref.jlso\"\n",
    "outfile = \"./compare1/imputed_target.vcf.gz\"\n",
    "width   = 512\n",
    "@time hs, ph = phase(tgtfile, reffile, outfile = outfile, width = width, \n",
    "    thinning_factor=100, thinning_scale_allelefreq=false);\n",
    "\n",
    "# import imputed result and compare with true\n",
    "X_mendel = convert_gt(Float32, outfile)\n",
    "X_complete = convert_gt(Float32, \"./compare1/target.vcf.gz\")\n",
    "n, p = size(X_mendel)\n",
    "error_rate = sum(X_mendel .!= X_complete) / n / p"
   ]
  },
  {
   "cell_type": "code",
   "execution_count": 5,
   "metadata": {
    "collapsed": false
   },
   "outputs": [
    {
     "name": "stderr",
     "output_type": "stream",
     "text": [
      "\u001b[32mImporting genotype file...100%|█████████████████████████| Time: 0:00:08\u001b[39m\n"
     ]
    },
    {
     "name": "stdout",
     "output_type": "stream",
     "text": [
      "Total windows = 70, averaging ~ 324 unique haplotypes per window.\n",
      "\n",
      "Timings: \n",
      "    Data import                     = 8.71165 seconds\n",
      "    Computing haplotype pair        = 3.82927 seconds\n",
      "        computing dist(X, H)           = 0.103507 seconds per thread\n",
      "        BLAS3 mul! to get M and N      = 3.00298 seconds per thread\n",
      "        haplopair search               = 0.0957462 seconds per thread\n",
      "        finding redundant happairs     = 0.0483971 seconds per thread\n",
      "    Phasing by dynamic programming  = 1.31137 seconds\n",
      "    Imputation                      = 3.59727 seconds\n",
      "\n",
      " 17.449979 seconds (74.09 M allocations: 6.688 GiB, 5.87% gc time)\n"
     ]
    },
    {
     "data": {
      "text/plain": [
       "0.00037705100704794273"
      ]
     },
     "execution_count": 5,
     "metadata": {},
     "output_type": "execute_result"
    }
   ],
   "source": [
    "# haplopair_thin (accounts for allele freq), keep = 100 (1 thread)\n",
    "Random.seed!(2020)\n",
    "tgtfile = \"./compare1/target_masked.vcf.gz\"\n",
    "reffile = \"./compare1/haplo_ref.jlso\"\n",
    "outfile = \"./compare1/imputed_target.vcf.gz\"\n",
    "width   = 512\n",
    "@time hs, ph = phase(tgtfile, reffile, outfile = outfile, width = width, \n",
    "    thinning_factor=100, thinning_scale_allelefreq=true);\n",
    "\n",
    "# import imputed result and compare with true\n",
    "X_mendel = convert_gt(Float32, outfile)\n",
    "X_complete = convert_gt(Float32, \"./compare1/target.vcf.gz\")\n",
    "n, p = size(X_mendel)\n",
    "error_rate = sum(X_mendel .!= X_complete) / n / p"
   ]
  },
  {
   "cell_type": "code",
   "execution_count": 4,
   "metadata": {
    "collapsed": false
   },
   "outputs": [
    {
     "name": "stderr",
     "output_type": "stream",
     "text": [
      "\u001b[32mImporting genotype file...100%|█████████████████████████| Time: 0:00:06\u001b[39m\n",
      "\u001b[32mComputing optimal haplotype pairs...100%|███████████████| Time: 0:00:33\u001b[39m\n"
     ]
    },
    {
     "name": "stdout",
     "output_type": "stream",
     "text": [
      "Total windows = 70, averaging ~ 324 unique haplotypes per window.\n",
      "\n",
      "Timings: \n",
      "    Data import                     = 7.23692 seconds\n",
      "    Computing haplotype pair        = 33.8668 seconds\n",
      "        computing dist(X, H)           = 0.0678813 seconds per thread\n",
      "        BLAS3 mul! to get M and N      = 31.0557 seconds per thread\n",
      "        haplopair search               = 1.01014 seconds per thread\n",
      "        finding redundant happairs     = 0.0575714 seconds per thread\n",
      "    Phasing by dynamic programming  = 1.59336 seconds\n",
      "    Imputation                      = 3.47687 seconds\n",
      "\n",
      " 46.173727 seconds (73.97 M allocations: 6.730 GiB, 1.82% gc time)\n"
     ]
    },
    {
     "data": {
      "text/plain": [
       "0.00012354792879627822"
      ]
     },
     "execution_count": 4,
     "metadata": {},
     "output_type": "execute_result"
    }
   ],
   "source": [
    "# haplopair_thin (not accounts for allele freq), keep = 100 (1 thread)\n",
    "Random.seed!(2020)\n",
    "tgtfile = \"./compare1/target_masked.vcf.gz\"\n",
    "reffile = \"./compare1/haplo_ref.jlso\"\n",
    "outfile = \"./compare1/imputed_target.vcf.gz\"\n",
    "width   = 512\n",
    "@time hs, ph = phase(tgtfile, reffile, outfile = outfile, width = width, \n",
    "    thinning_factor=400, thinning_scale_allelefreq=false);\n",
    "\n",
    "# import imputed result and compare with true\n",
    "X_mendel = convert_gt(Float32, outfile)\n",
    "X_complete = convert_gt(Float32, \"./compare1/target.vcf.gz\")\n",
    "n, p = size(X_mendel)\n",
    "error_rate = sum(X_mendel .!= X_complete) / n / p"
   ]
  },
  {
   "cell_type": "code",
   "execution_count": 5,
   "metadata": {
    "collapsed": false
   },
   "outputs": [
    {
     "name": "stderr",
     "output_type": "stream",
     "text": [
      "\u001b[32mImporting genotype file...100%|█████████████████████████| Time: 0:00:06\u001b[39m\n",
      "\u001b[32mComputing optimal haplotype pairs...100%|███████████████| Time: 0:00:35\u001b[39m\n"
     ]
    },
    {
     "name": "stdout",
     "output_type": "stream",
     "text": [
      "Total windows = 70, averaging ~ 324 unique haplotypes per window.\n",
      "\n",
      "Timings: \n",
      "    Data import                     = 7.29256 seconds\n",
      "    Computing haplotype pair        = 35.8707 seconds\n",
      "        computing dist(X, H)           = 0.083919 seconds per thread\n",
      "        BLAS3 mul! to get M and N      = 32.2807 seconds per thread\n",
      "        haplopair search               = 1.80037 seconds per thread\n",
      "        finding redundant happairs     = 0.0578252 seconds per thread\n",
      "    Phasing by dynamic programming  = 1.61832 seconds\n",
      "    Imputation                      = 3.74514 seconds\n",
      "\n",
      " 48.526605 seconds (73.88 M allocations: 6.863 GiB, 1.92% gc time)\n"
     ]
    },
    {
     "data": {
      "text/plain": [
       "0.00012257291695684877"
      ]
     },
     "execution_count": 5,
     "metadata": {},
     "output_type": "execute_result"
    }
   ],
   "source": [
    "# haplopair_thin (accounts for allele freq), keep = 100 (1 thread)\n",
    "Random.seed!(2020)\n",
    "tgtfile = \"./compare1/target_masked.vcf.gz\"\n",
    "reffile = \"./compare1/haplo_ref.jlso\"\n",
    "outfile = \"./compare1/imputed_target.vcf.gz\"\n",
    "width   = 512\n",
    "@time hs, ph = phase(tgtfile, reffile, outfile = outfile, width = width, \n",
    "    thinning_factor=400, thinning_scale_allelefreq=true);\n",
    "\n",
    "# import imputed result and compare with true\n",
    "X_mendel = convert_gt(Float32, outfile)\n",
    "X_complete = convert_gt(Float32, \"./compare1/target.vcf.gz\")\n",
    "n, p = size(X_mendel)\n",
    "error_rate = sum(X_mendel .!= X_complete) / n / p"
   ]
  },
  {
   "cell_type": "markdown",
   "metadata": {},
   "source": [
    "# MendelImpute error"
   ]
  },
  {
   "cell_type": "code",
   "execution_count": 4,
   "metadata": {
    "collapsed": false
   },
   "outputs": [
    {
     "name": "stderr",
     "output_type": "stream",
     "text": [
      "\u001b[32mImporting genotype file...100%|█████████████████████████| Time: 0:00:06\u001b[39m\n",
      "\u001b[32mMerging breakpoints...100%|█████████████████████████████| Time: 0:00:08\u001b[39m\n"
     ]
    },
    {
     "name": "stdout",
     "output_type": "stream",
     "text": [
      "Total windows = 70, averaging ~ 324 unique haplotypes per window.\n",
      "\n",
      "Timings: \n",
      "    Data import                     = 7.15743 seconds\n",
      "    Computing haplotype pair        = 4.59733 seconds\n",
      "        BLAS3 mul! to get M and N      = 0.0877909 seconds per thread\n",
      "        haplopair search               = 3.38927 seconds per thread\n",
      "        supplying constant terms       = 0.0350991 seconds per thread\n",
      "        finding redundant happairs     = 0.241295 seconds per thread\n",
      "    Phasing by dynamic programming  = 8.16645 seconds\n",
      "    Imputation                      = 3.09324 seconds\n",
      "\n",
      " 23.014640 seconds (73.66 M allocations: 6.632 GiB, 4.34% gc time)\n"
     ]
    },
    {
     "data": {
      "text/plain": [
       "0.00012268434688135499"
      ]
     },
     "execution_count": 4,
     "metadata": {},
     "output_type": "execute_result"
    }
   ],
   "source": [
    "# keep best pair only (1 thread)\n",
    "Random.seed!(2020)\n",
    "tgtfile = \"./compare1/target_masked.vcf.gz\"\n",
    "reffile = \"./compare1/haplo_ref.jlso\"\n",
    "outfile = \"./compare1/imputed_target.vcf.gz\"\n",
    "width   = 512\n",
    "@time hs, ph = phase(tgtfile, reffile, outfile = outfile, width = width);\n",
    "\n",
    "# import imputed result and compare with true\n",
    "X_mendel = convert_gt(Float32, outfile)\n",
    "X_complete = convert_gt(Float32, \"./compare1/target.vcf.gz\")\n",
    "n, p = size(X_mendel)\n",
    "error_rate = sum(X_mendel .!= X_complete) / n / p"
   ]
  },
  {
   "cell_type": "code",
   "execution_count": 60,
   "metadata": {
    "collapsed": false
   },
   "outputs": [
    {
     "name": "stderr",
     "output_type": "stream",
     "text": [
      "\u001b[32mImporting genotype file...100%|█████████████████████████| Time: 0:00:08\u001b[39m\n",
      "\u001b[32mComputing optimal haplotype pairs...100%|███████████████| Time: 0:00:07\u001b[39m\n",
      "\u001b[32mMerging breakpoints...100%|█████████████████████████████| Time: 0:00:09\u001b[39m\n"
     ]
    },
    {
     "name": "stdout",
     "output_type": "stream",
     "text": [
      "Total windows = 70, averaging ~ 324 unique haplotypes per window.\n",
      "\n",
      "Timings: \n",
      "    Data import                     = 8.60848 seconds\n",
      "    Computing haplotype pair        = 7.25466 seconds\n",
      "        BLAS3 mul! to get M and N      = 0.0993171 seconds (on thread 1)\n",
      "        haplopair search               = 4.07569 seconds (on thread 1)\n",
      "        min least sq on observed data  = 1.16035 seconds (on thread 1)\n",
      "        finding redundant happairs     = 0.525039 seconds (on thread 1)\n",
      "    Phasing by dynamic programming  = 9.25942 seconds\n",
      "    Imputation                      = 3.39352 seconds\n",
      "\n",
      " 28.516151 seconds (73.61 M allocations: 7.466 GiB, 7.49% gc time)\n"
     ]
    },
    {
     "data": {
      "text/plain": [
       "0.0001033791124606513"
      ]
     },
     "execution_count": 60,
     "metadata": {},
     "output_type": "execute_result"
    }
   ],
   "source": [
    "# keep top matching happairs (1 thread)\n",
    "Random.seed!(2020)\n",
    "tgtfile = \"target_masked.vcf.gz\"\n",
    "reffile = \"haplo_ref.jlso\"\n",
    "outfile = \"imputed_target.vcf.gz\"\n",
    "width   = 512\n",
    "@time hs, ph = phase(tgtfile, reffile, outfile = outfile, width = width, rescreen=true);\n",
    "\n",
    "# import imputed result and compare with true\n",
    "X_mendel = convert_gt(Float32, outfile)\n",
    "X_complete = convert_gt(Float32, \"target.vcf.gz\")\n",
    "n, p = size(X_mendel)\n",
    "error_rate = sum(X_mendel .!= X_complete) / n / p"
   ]
  },
  {
   "cell_type": "code",
   "execution_count": 4,
   "metadata": {
    "collapsed": false
   },
   "outputs": [
    {
     "name": "stderr",
     "output_type": "stream",
     "text": [
      "\u001b[32mImporting genotype file...100%|█████████████████████████| Time: 0:00:07\u001b[39m\n"
     ]
    },
    {
     "name": "stdout",
     "output_type": "stream",
     "text": [
      "Total windows = 70, averaging ~ 324 unique haplotypes per window.\n",
      "\n",
      "Timings: \n",
      "    Data import                     = 8.12152 seconds\n",
      "    Computing haplotype pair        = 1.1218 seconds\n",
      "        BLAS3 mul! to get M and N      = 0.0341568 seconds per thread\n",
      "        haplopair search               = 0.705712 seconds per thread\n",
      "        supplying constant terms       = 0.00539063 seconds per thread\n",
      "        finding redundant happairs     = 0.0542955 seconds per thread\n",
      "    Phasing by dynamic programming  = 1.64034 seconds\n",
      "    Imputation                      = 3.46126 seconds\n",
      "\n",
      " 14.345867 seconds (73.67 M allocations: 6.676 GiB, 6.10% gc time)\n"
     ]
    },
    {
     "data": {
      "text/plain": [
       "0.00012268434688135499"
      ]
     },
     "execution_count": 4,
     "metadata": {},
     "output_type": "execute_result"
    }
   ],
   "source": [
    "# keep best pair only (8 thread)\n",
    "Random.seed!(2020)\n",
    "tgtfile = \"./compare1/target_masked.vcf.gz\"\n",
    "reffile = \"./compare1/haplo_ref.jlso\"\n",
    "outfile = \"./compare1/imputed_target.vcf.gz\"\n",
    "width   = 512\n",
    "@time hs, ph = phase(tgtfile, reffile, outfile = outfile, width = width);\n",
    "\n",
    "# import imputed result and compare with true\n",
    "X_mendel = convert_gt(Float32, outfile)\n",
    "X_complete = convert_gt(Float32, \"./compare1/target.vcf.gz\")\n",
    "n, p = size(X_mendel)\n",
    "error_rate = sum(X_mendel .!= X_complete) / n / p"
   ]
  },
  {
   "cell_type": "code",
   "execution_count": 3,
   "metadata": {
    "collapsed": false
   },
   "outputs": [
    {
     "name": "stderr",
     "output_type": "stream",
     "text": [
      "\u001b[32mImporting genotype file...100%|█████████████████████████| Time: 0:00:06\u001b[39m\n",
      "\u001b[32mComputing optimal haplotype pairs...100%|███████████████| Time: 0:00:10\u001b[39m\n",
      "\u001b[32mMerging breakpoints...100%|█████████████████████████████| Time: 0:00:25\u001b[39m\n"
     ]
    },
    {
     "name": "stdout",
     "output_type": "stream",
     "text": [
      "Data import time                    = 6.6587 seconds\n",
      "Computing haplotype pair time       = 10.2962 seconds\n",
      "Phasing by dynamic programming time = 25.9828 seconds\n",
      "Imputing time                       = 3.6637 seconds\n",
      " 46.601150 seconds (73.68 M allocations: 7.879 GiB, 2.17% gc time)\n"
     ]
    },
    {
     "data": {
      "text/plain": [
       "0.00010181909351756413"
      ]
     },
     "execution_count": 3,
     "metadata": {},
     "output_type": "execute_result"
    }
   ],
   "source": [
    "# Keep a list of top haplotype pairs (1 thread)\n",
    "Random.seed!(2020)\n",
    "tgtfile = \"target_masked.vcf.gz\"\n",
    "reffile = \"haplo_ref.jlso\"\n",
    "outfile = \"imputed_target.vcf.gz\"\n",
    "width   = 500\n",
    "@time hs, ph = phase(tgtfile, reffile, outfile = outfile, width = width);\n",
    "\n",
    "# import imputed result and compare with true\n",
    "X_mendel = convert_gt(Float32, outfile)\n",
    "X_complete = convert_gt(Float32, \"target.vcf.gz\")\n",
    "n, p = size(X_mendel)\n",
    "error_rate = sum(X_mendel .!= X_complete) / n / p"
   ]
  },
  {
   "cell_type": "code",
   "execution_count": 5,
   "metadata": {
    "collapsed": false
   },
   "outputs": [
    {
     "name": "stderr",
     "output_type": "stream",
     "text": [
      "\u001b[32mImporting genotype file...100%|█████████████████████████| Time: 0:00:06\u001b[39m\n"
     ]
    },
    {
     "name": "stdout",
     "output_type": "stream",
     "text": [
      "Data import time                    = 7.00521 seconds\n",
      "Computing haplotype pair time       = 2.14302 seconds\n",
      "Phasing by dynamic programming time = 4.11389 seconds\n",
      "Imputing time                       = 3.09487 seconds\n",
      " 16.357013 seconds (73.69 M allocations: 7.939 GiB, 5.88% gc time)\n"
     ]
    },
    {
     "data": {
      "text/plain": [
       "0.00010181909351756413"
      ]
     },
     "execution_count": 5,
     "metadata": {},
     "output_type": "execute_result"
    }
   ],
   "source": [
    "# Keep a list of top haplotype pairs (8 thread)\n",
    "Random.seed!(2020)\n",
    "tgtfile = \"target_masked.vcf.gz\"\n",
    "reffile = \"haplo_ref.jlso\"\n",
    "outfile = \"imputed_target.vcf.gz\"\n",
    "width   = 500\n",
    "@time hs, ph = phase(tgtfile, reffile, outfile = outfile, width = width);\n",
    "\n",
    "# import imputed result and compare with true\n",
    "X_mendel = convert_gt(Float32, outfile)\n",
    "X_complete = convert_gt(Float32, \"target.vcf.gz\")\n",
    "n, p = size(X_mendel)\n",
    "error_rate = sum(X_mendel .!= X_complete) / n / p"
   ]
  },
  {
   "cell_type": "markdown",
   "metadata": {},
   "source": [
    "# MendelImpute with intersecting haplotype sets"
   ]
  },
  {
   "cell_type": "code",
   "execution_count": 6,
   "metadata": {
    "collapsed": false
   },
   "outputs": [
    {
     "name": "stderr",
     "output_type": "stream",
     "text": [
      "\u001b[32mImporting genotype file...100%|█████████████████████████| Time: 0:00:06\u001b[39m\n"
     ]
    },
    {
     "name": "stdout",
     "output_type": "stream",
     "text": [
      "Total windows = 70, averaging ~ 324 unique haplotypes per window.\n",
      "\n",
      "Timings: \n",
      "    Data import                     = 6.95714 seconds\n",
      "    Computing haplotype pair        = 0.80774 seconds\n",
      "        BLAS3 mul! to get M and N      = 0.0253795 seconds per thread\n",
      "        haplopair search               = 0.616438 seconds per thread\n",
      "        finding redundant happairs     = 0.0152108 seconds per thread\n",
      "    Phasing by win-win intersection = 0.406233 seconds\n",
      "    Imputation                      = 2.97703 seconds\n",
      "\n",
      " 11.148283 seconds (78.37 M allocations: 6.367 GiB, 7.62% gc time)\n"
     ]
    },
    {
     "data": {
      "text/plain": [
       "0.0014259408864250494"
      ]
     },
     "execution_count": 6,
     "metadata": {},
     "output_type": "execute_result"
    }
   ],
   "source": [
    "# keep best pair only (1 thread)\n",
    "Random.seed!(2020)\n",
    "tgtfile = \"./compare1/target_masked.vcf.gz\"\n",
    "reffile = \"./compare1/haplo_ref.jlso\"\n",
    "outfile = \"./compare1/imputed_target.vcf.gz\"\n",
    "width   = 512\n",
    "@time hs, ph = phase(tgtfile, reffile, outfile = outfile, width = width,\n",
    "    dynamic_programming = false);\n",
    "\n",
    "# import imputed result and compare with true\n",
    "X_mendel = convert_gt(Float32, outfile)\n",
    "X_complete = convert_gt(Float32, \"./compare1/target.vcf.gz\")\n",
    "n, p = size(X_mendel)\n",
    "error_rate = sum(X_mendel .!= X_complete) / n / p"
   ]
  },
  {
   "cell_type": "code",
   "execution_count": 11,
   "metadata": {
    "collapsed": false
   },
   "outputs": [
    {
     "data": {
      "text/plain": [
       "Set(Int32[493, 549, 1118, 395, 204, 1186, 1288, 1205, 357, 1278])"
      ]
     },
     "execution_count": 11,
     "metadata": {},
     "output_type": "execute_result"
    }
   ],
   "source": [
    "hs[1].strand1[1]"
   ]
  },
  {
   "cell_type": "code",
   "execution_count": 12,
   "metadata": {
    "collapsed": false,
    "scrolled": true
   },
   "outputs": [
    {
     "data": {
      "text/plain": [
       "Set(Int32[1971, 791, 1006, 384, 1566, 159, 285, 1047, 258, 669  …  580, 869, 1512, 1258, 1168, 840, 557, 1661, 56, 1449])"
      ]
     },
     "execution_count": 12,
     "metadata": {},
     "output_type": "execute_result"
    }
   ],
   "source": [
    "hs[1].strand1[10]"
   ]
  },
  {
   "cell_type": "code",
   "execution_count": 13,
   "metadata": {
    "collapsed": false
   },
   "outputs": [
    {
     "data": {
      "text/plain": [
       "Set(Int32[461, 1492, 381, 882, 1384, 1425, 1886])"
      ]
     },
     "execution_count": 13,
     "metadata": {},
     "output_type": "execute_result"
    }
   ],
   "source": [
    "hs[1].strand2[1]"
   ]
  },
  {
   "cell_type": "code",
   "execution_count": 14,
   "metadata": {
    "collapsed": false
   },
   "outputs": [
    {
     "data": {
      "text/plain": [
       "Set(Int32[461, 1841, 1492, 381, 345, 882, 637])"
      ]
     },
     "execution_count": 14,
     "metadata": {},
     "output_type": "execute_result"
    }
   ],
   "source": [
    "hs[1].strand2[10]"
   ]
  },
  {
   "cell_type": "code",
   "execution_count": 47,
   "metadata": {
    "collapsed": false
   },
   "outputs": [
    {
     "name": "stderr",
     "output_type": "stream",
     "text": [
      "\u001b[32mImporting genotype file...100%|█████████████████████████| Time: 0:00:07\u001b[39m\n"
     ]
    },
    {
     "name": "stdout",
     "output_type": "stream",
     "text": [
      "Total windows = 70, averaging ~ 324 unique haplotypes per window.\n",
      "\n",
      "Timings: \n",
      "    Data import                     = 7.65154 seconds\n",
      "    Computing haplotype pair        = 3.42246 seconds\n",
      "        BLAS3 mul! to get M and N      = 0.0976265 seconds per thread\n",
      "        haplopair search               = 2.44649 seconds per thread\n",
      "        supplying constant terms       = 0.0362332 seconds per thread\n",
      "        finding redundant happairs     = 0.0447599 seconds per thread\n",
      "    Phasing by dynamic programming  = 0.127417 seconds\n",
      "    Imputation                      = 3.12078 seconds\n",
      "\n",
      " 14.322548 seconds (73.73 M allocations: 6.138 GiB, 6.11% gc time)\n"
     ]
    },
    {
     "data": {
      "text/plain": [
       "0.00014143243167952753"
      ]
     },
     "execution_count": 47,
     "metadata": {},
     "output_type": "execute_result"
    }
   ],
   "source": [
    "# keep best pair only (1 thread)\n",
    "Random.seed!(2020)\n",
    "tgtfile = \"target_masked.vcf.gz\"\n",
    "reffile = \"haplo_ref.jlso\"\n",
    "outfile = \"imputed_target.vcf.gz\"\n",
    "width   = 512\n",
    "@time hs, ph = phase(tgtfile, reffile, outfile = outfile, width = width,\n",
    "    dynamic_programming = false);\n",
    "\n",
    "# import imputed result and compare with true\n",
    "X_mendel = convert_gt(Float32, outfile)\n",
    "X_complete = convert_gt(Float32, \"target.vcf.gz\")\n",
    "n, p = size(X_mendel)\n",
    "error_rate = sum(X_mendel .!= X_complete) / n / p"
   ]
  },
  {
   "cell_type": "code",
   "execution_count": 6,
   "metadata": {
    "collapsed": false
   },
   "outputs": [
    {
     "name": "stderr",
     "output_type": "stream",
     "text": [
      "\u001b[32mImporting genotype file...100%|█████████████████████████| Time: 0:00:07\u001b[39m\n"
     ]
    },
    {
     "name": "stdout",
     "output_type": "stream",
     "text": [
      "Total windows = 70, averaging ~ 324 unique haplotypes per window.\n",
      "\n",
      "Timings: \n",
      "    Data import                     = 8.20204 seconds\n",
      "    Computing haplotype pair        = 0.83389 seconds\n",
      "        BLAS3 mul! to get M and N      = 0.026647 seconds per thread\n",
      "        haplopair search               = 0.645136 seconds per thread\n",
      "        supplying constant terms       = 0.00510663 seconds per thread\n",
      "        finding redundant happairs     = 0.00728226 seconds per thread\n",
      "    Phasing by dynamic programming  = 0.036382 seconds\n",
      "    Imputation                      = 3.11191 seconds\n",
      "\n",
      " 12.184995 seconds (73.73 M allocations: 6.138 GiB, 6.84% gc time)\n"
     ]
    },
    {
     "data": {
      "text/plain": [
       "0.00014143243167952753"
      ]
     },
     "execution_count": 6,
     "metadata": {},
     "output_type": "execute_result"
    }
   ],
   "source": [
    "# keep best pair only (8 thread)\n",
    "Random.seed!(2020)\n",
    "width   = 512\n",
    "tgtfile = \"./compare1/target_masked.vcf.gz\"\n",
    "reffile = \"./compare1/haplo_ref.jlso\"\n",
    "outfile = \"./compare1/imputed_target.vcf.gz\"\n",
    "@time hs, ph = phase(tgtfile, reffile, outfile = outfile, width = width, \n",
    "    dynamic_programming = false);\n",
    "\n",
    "# import imputed result and compare with true\n",
    "X_mendel = convert_gt(Float32, outfile)\n",
    "X_complete = convert_gt(Float32, \"./compare1/target.vcf.gz\")\n",
    "n, p = size(X_mendel)\n",
    "rm(outfile, force=true)\n",
    "error_rate = sum(X_mendel .!= X_complete) / n / p"
   ]
  },
  {
   "cell_type": "markdown",
   "metadata": {},
   "source": [
    "# Try Lasso"
   ]
  },
  {
   "cell_type": "code",
   "execution_count": 5,
   "metadata": {
    "collapsed": false
   },
   "outputs": [
    {
     "name": "stderr",
     "output_type": "stream",
     "text": [
      "\u001b[32mImporting genotype file...100%|█████████████████████████| Time: 0:00:07\u001b[39m\n"
     ]
    },
    {
     "name": "stdout",
     "output_type": "stream",
     "text": [
      "Total windows = 70, averaging ~ 324 unique haplotypes per window.\n",
      "\n",
      "Timings: \n",
      "    Data import                     = 8.24451 seconds\n",
      "    Computing haplotype pair        = 1.29866 seconds\n",
      "        BLAS3 mul! to get M and N      = 0.965563 seconds per thread\n",
      "        haplopair search               = 0.0108781 seconds per thread\n",
      "        finding redundant happairs     = 0.0334909 seconds per thread\n",
      "    Phasing by dynamic programming  = 0.689294 seconds\n",
      "    Imputation                      = 3.45493 seconds\n",
      "\n",
      " 13.687752 seconds (73.92 M allocations: 6.695 GiB, 7.37% gc time)\n"
     ]
    },
    {
     "data": {
      "text/plain": [
       "0.0007754408446388277"
      ]
     },
     "execution_count": 5,
     "metadata": {},
     "output_type": "execute_result"
    }
   ],
   "source": [
    "# keep best pair only (8 thread)\n",
    "Random.seed!(2020)\n",
    "width   = 512\n",
    "tgtfile = \"./compare1/target_masked.vcf.gz\"\n",
    "reffile = \"./compare1/haplo_ref.jlso\"\n",
    "outfile = \"./compare1/imputed_target.vcf.gz\"\n",
    "@time hs, ph = phase(tgtfile, reffile, outfile = outfile, width = width, \n",
    "    lasso = 1);\n",
    "\n",
    "# import imputed result and compare with true\n",
    "X_mendel = convert_gt(Float32, outfile)\n",
    "X_complete = convert_gt(Float32, \"./compare1/target.vcf.gz\")\n",
    "n, p = size(X_mendel)\n",
    "rm(outfile, force=true)\n",
    "error_rate = sum(X_mendel .!= X_complete) / n / p"
   ]
  },
  {
   "cell_type": "code",
   "execution_count": 10,
   "metadata": {
    "collapsed": false
   },
   "outputs": [
    {
     "name": "stderr",
     "output_type": "stream",
     "text": [
      "\u001b[32mImporting genotype file...100%|█████████████████████████| Time: 0:00:07\u001b[39m\n"
     ]
    },
    {
     "name": "stdout",
     "output_type": "stream",
     "text": [
      "Total windows = 70, averaging ~ 324 unique haplotypes per window.\n",
      "\n",
      "Timings: \n",
      "    Data import                     = 7.73813 seconds\n",
      "    Computing haplotype pair        = 1.36674 seconds\n",
      "        BLAS3 mul! to get M and N      = 0.976143 seconds per thread\n",
      "        haplopair search               = 0.0872356 seconds per thread\n",
      "        finding redundant happairs     = 0.0453141 seconds per thread\n",
      "    Phasing by dynamic programming  = 1.20663 seconds\n",
      "    Imputation                      = 3.04656 seconds\n",
      "\n",
      " 13.358349 seconds (74.00 M allocations: 6.687 GiB, 6.65% gc time)\n"
     ]
    },
    {
     "data": {
      "text/plain": [
       "0.0002194612363150124"
      ]
     },
     "execution_count": 10,
     "metadata": {},
     "output_type": "execute_result"
    }
   ],
   "source": [
    "# keep best pair only (8 thread)\n",
    "Random.seed!(2020)\n",
    "width   = 512\n",
    "tgtfile = \"./compare1/target_masked.vcf.gz\"\n",
    "reffile = \"./compare1/haplo_ref.jlso\"\n",
    "outfile = \"./compare1/imputed_target.vcf.gz\"\n",
    "@time hs, ph = phase(tgtfile, reffile, outfile = outfile, width = width, \n",
    "    lasso = 5);\n",
    "\n",
    "# import imputed result and compare with true\n",
    "X_mendel = convert_gt(Float32, outfile)\n",
    "X_complete = convert_gt(Float32, \"./compare1/target.vcf.gz\")\n",
    "n, p = size(X_mendel)\n",
    "rm(outfile, force=true)\n",
    "error_rate = sum(X_mendel .!= X_complete) / n / p"
   ]
  },
  {
   "cell_type": "code",
   "execution_count": 11,
   "metadata": {
    "collapsed": false
   },
   "outputs": [
    {
     "name": "stderr",
     "output_type": "stream",
     "text": [
      "\u001b[32mImporting genotype file...100%|█████████████████████████| Time: 0:00:07\u001b[39m\n"
     ]
    },
    {
     "name": "stdout",
     "output_type": "stream",
     "text": [
      "Total windows = 70, averaging ~ 324 unique haplotypes per window.\n",
      "\n",
      "Timings: \n",
      "    Data import                     = 7.54905 seconds\n",
      "    Computing haplotype pair        = 1.45052 seconds\n",
      "        BLAS3 mul! to get M and N      = 0.965816 seconds per thread\n",
      "        haplopair search               = 0.168008 seconds per thread\n",
      "        finding redundant happairs     = 0.04538 seconds per thread\n",
      "    Phasing by dynamic programming  = 1.2754 seconds\n",
      "    Imputation                      = 3.05638 seconds\n",
      "\n",
      " 13.331794 seconds (73.95 M allocations: 6.682 GiB, 6.54% gc time)\n"
     ]
    },
    {
     "data": {
      "text/plain": [
       "0.000129342284870602"
      ]
     },
     "execution_count": 11,
     "metadata": {},
     "output_type": "execute_result"
    }
   ],
   "source": [
    "# keep best pair only (8 thread)\n",
    "Random.seed!(2020)\n",
    "width   = 512\n",
    "tgtfile = \"./compare1/target_masked.vcf.gz\"\n",
    "reffile = \"./compare1/haplo_ref.jlso\"\n",
    "outfile = \"./compare1/imputed_target.vcf.gz\"\n",
    "@time hs, ph = phase(tgtfile, reffile, outfile = outfile, width = width, \n",
    "    lasso = 20);\n",
    "\n",
    "# import imputed result and compare with true\n",
    "X_mendel = convert_gt(Float32, outfile)\n",
    "# X_complete = convert_gt(Float32, \"./compare1/target.vcf.gz\")\n",
    "n, p = size(X_mendel)\n",
    "rm(outfile, force=true)\n",
    "error_rate = sum(X_mendel .!= X_complete) / n / p"
   ]
  },
  {
   "cell_type": "markdown",
   "metadata": {},
   "source": [
    "# Beagle 5.1 Error"
   ]
  },
  {
   "cell_type": "code",
   "execution_count": 5,
   "metadata": {
    "collapsed": false
   },
   "outputs": [
    {
     "name": "stdout",
     "output_type": "stream",
     "text": [
      "usage:\n",
      "  java -jar bref3.18May20.d20.jar help\n",
      "\n",
      "  java -jar bref3.18May20.d20.jar [vcf] <nseq>  > [bref3]\n",
      "\n",
      "  cat   [vcf]   | java -jar bref3.18May20.d20.jar <nseq>  > [bref3]\n",
      "\n",
      "where\n",
      "  [bref3]  = the output bref3 file\n",
      "  [vcf]    = A VCF file with phased, non-missing genotype data.  If the\n",
      "             file is gzip-compressed, its filename must end in \".gz\"\n",
      "             and \"cat\" must be replaced with \"zcat\"\n",
      "  <nseq>   = optional argument for maximum number of unique sequences\n",
      "             in a bref3 block. If there are N reference samples,\n",
      "             the default value is: <max-seq>=2^(2*log10(N) + 1)\n",
      "\n"
     ]
    }
   ],
   "source": [
    "# convert to bref3 (run in terminal)\n",
    "java -jar bref3.18May20.d20.jar haplo_ref.vcf.gz > haplo_ref.bref3 "
   ]
  },
  {
   "cell_type": "code",
   "execution_count": 6,
   "metadata": {
    "collapsed": false
   },
   "outputs": [
    {
     "name": "stdout",
     "output_type": "stream",
     "text": [
      "beagle.18May20.d20.jar (version 5.1)\n",
      "Copyright (C) 2014-2018 Brian L. Browning\n",
      "Enter \"java -jar beagle.18May20.d20.jar\" to list command line argument\n",
      "Start time: 09:01 PM PDT on 29 Jun 2020\n",
      "\n",
      "Command line: java -Xmx3641m -jar beagle.18May20.d20.jar\n",
      "  gt=target_masked.vcf.gz\n",
      "  ref=haplo_ref.bref3\n",
      "  out=beagle.result\n",
      "  nthreads=1\n",
      "\n",
      "No genetic map is specified: using 1 cM = 1 Mb\n",
      "\n",
      "Reference samples:       1,000\n",
      "Study samples:           1,000\n",
      "\n",
      "Window 1 (1:36-4999683)\n",
      "Reference markers:      35,897\n",
      "Study markers:          35,897\n",
      "\n",
      "Burnin  iteration 1:           2 minutes 39 seconds\n",
      "Burnin  iteration 2:           2 minutes 56 seconds\n",
      "Burnin  iteration 3:           2 minutes 59 seconds\n",
      "Burnin  iteration 4:           2 minutes 56 seconds\n",
      "Burnin  iteration 5:           2 minutes 58 seconds\n",
      "Burnin  iteration 6:           4 minutes 33 seconds\n",
      "\n",
      "Phasing iteration 1:           5 minutes 48 seconds\n",
      "Phasing iteration 2:           2 minutes 50 seconds\n",
      "Phasing iteration 3:           2 minutes 52 seconds\n",
      "Phasing iteration 4:           2 minutes 50 seconds\n",
      "Phasing iteration 5:           2 minutes 51 seconds\n",
      "Phasing iteration 6:           2 minutes 47 seconds\n",
      "Phasing iteration 7:           2 minutes 46 seconds\n",
      "Phasing iteration 8:           2 minutes 35 seconds\n",
      "Phasing iteration 9:           2 minutes 30 seconds\n",
      "Phasing iteration 10:          2 minutes 3 seconds\n",
      "Phasing iteration 11:          1 minute 39 seconds\n",
      "Phasing iteration 12:          53 seconds\n",
      "\n",
      "Cumulative Statistics:\n",
      "\n",
      "Study markers:          35,897\n",
      "\n",
      "Haplotype phasing time:        51 minutes 25 seconds\n",
      "Total time:                    52 minutes 10 seconds\n",
      "\n",
      "End time: 09:53 PM PDT on 29 Jun 2020\n",
      "beagle.18May20.d20.jar finished\n"
     ]
    },
    {
     "ename": "MethodError",
     "evalue": "MethodError: no method matching convert_gt(::Type{Float32}, ::String; as_minorallele=false)\nClosest candidates are:\n  convert_gt(::Type{T}, ::AbstractString; model, impute, center, scale, trans, msg, save_snp_info) where T<:Real at /Users/biona001/.julia/packages/VCFTools/fTfDS/src/convert.jl:232 got unsupported keyword argument \"as_minorallele\"\n  convert_gt(::Type{T}, !Matched::Tuple{Bool,Bool}) where T<:Real at /Users/biona001/.julia/packages/VCFTools/fTfDS/src/convert.jl:10 got unsupported keyword argument \"as_minorallele\"\n  convert_gt(::Type{T}, !Matched::Tuple{Bool,Bool}, !Matched::Symbol) where T<:Real at /Users/biona001/.julia/packages/VCFTools/fTfDS/src/convert.jl:10 got unsupported keyword argument \"as_minorallele\"",
     "output_type": "error",
     "traceback": [
      "MethodError: no method matching convert_gt(::Type{Float32}, ::String; as_minorallele=false)\nClosest candidates are:\n  convert_gt(::Type{T}, ::AbstractString; model, impute, center, scale, trans, msg, save_snp_info) where T<:Real at /Users/biona001/.julia/packages/VCFTools/fTfDS/src/convert.jl:232 got unsupported keyword argument \"as_minorallele\"\n  convert_gt(::Type{T}, !Matched::Tuple{Bool,Bool}) where T<:Real at /Users/biona001/.julia/packages/VCFTools/fTfDS/src/convert.jl:10 got unsupported keyword argument \"as_minorallele\"\n  convert_gt(::Type{T}, !Matched::Tuple{Bool,Bool}, !Matched::Symbol) where T<:Real at /Users/biona001/.julia/packages/VCFTools/fTfDS/src/convert.jl:10 got unsupported keyword argument \"as_minorallele\"",
      "",
      "Stacktrace:",
      " [1] kwerr(::NamedTuple{(:as_minorallele,),Tuple{Bool}}, ::Function, ::Type, ::String) at ./error.jl:125",
      " [2] (::VCFTools.var\"#kw##convert_gt\")(::NamedTuple{(:as_minorallele,),Tuple{Bool}}, ::typeof(convert_gt), ::Type{Float32}, ::String) at ./none:0",
      " [3] top-level scope at In[6]:3"
     ]
    }
   ],
   "source": [
    "# run beagle 5 (1 thread)\n",
    "run(`java -jar beagle.18May20.d20.jar gt=target_masked.vcf.gz ref=haplo_ref.bref3 out=beagle.result nthreads=1`)"
   ]
  },
  {
   "cell_type": "code",
   "execution_count": 8,
   "metadata": {
    "collapsed": false
   },
   "outputs": [
    {
     "data": {
      "text/plain": [
       "2.0698108477031506e-5"
      ]
     },
     "execution_count": 8,
     "metadata": {},
     "output_type": "execute_result"
    }
   ],
   "source": [
    "# beagle 5.1 error rate\n",
    "X_complete = convert_gt(Float32, \"target.vcf.gz\")\n",
    "n, p = size(X_complete)\n",
    "X_beagle = convert_gt(Float32, \"beagle.result.vcf.gz\")\n",
    "error_rate = sum(X_beagle .!= X_complete) / n / p"
   ]
  },
  {
   "cell_type": "code",
   "execution_count": 2,
   "metadata": {
    "collapsed": false
   },
   "outputs": [
    {
     "name": "stdout",
     "output_type": "stream",
     "text": [
      "beagle.18May20.d20.jar (version 5.1)\n",
      "Copyright (C) 2014-2018 Brian L. Browning\n",
      "Enter \"java -jar beagle.18May20.d20.jar\" to list command line argument\n",
      "Start time: 07:33 PM PDT on 30 Jun 2020\n",
      "\n",
      "Command line: java -Xmx3641m -jar beagle.18May20.d20.jar\n",
      "  gt=./compare1/target_masked.vcf.gz\n",
      "  ref=./compare1/haplo_ref.bref3\n",
      "  out=./compare1/beagle.result\n",
      "  nthreads=8\n",
      "\n",
      "No genetic map is specified: using 1 cM = 1 Mb\n",
      "\n",
      "Reference samples:       1,000\n",
      "Study samples:           1,000\n",
      "\n",
      "Window 1 (1:36-4999683)\n",
      "Reference markers:      35,897\n",
      "Study markers:          35,897\n",
      "\n",
      "Burnin  iteration 1:           26 seconds\n",
      "Burnin  iteration 2:           29 seconds\n",
      "Burnin  iteration 3:           30 seconds\n",
      "Burnin  iteration 4:           45 seconds\n",
      "Burnin  iteration 5:           34 seconds\n",
      "Burnin  iteration 6:           51 seconds\n",
      "\n",
      "Phasing iteration 1:           1 minute 10 seconds\n",
      "Phasing iteration 2:           34 seconds\n",
      "Phasing iteration 3:           35 seconds\n",
      "Phasing iteration 4:           33 seconds\n",
      "Phasing iteration 5:           40 seconds\n",
      "Phasing iteration 6:           36 seconds\n",
      "Phasing iteration 7:           33 seconds\n",
      "Phasing iteration 8:           37 seconds\n",
      "Phasing iteration 9:           37 seconds\n",
      "Phasing iteration 10:          27 seconds\n",
      "Phasing iteration 11:          18 seconds\n",
      "Phasing iteration 12:          10 seconds\n",
      "\n",
      "Cumulative Statistics:\n",
      "\n",
      "Study markers:          35,897\n",
      "\n",
      "Haplotype phasing time:        10 minutes 24 seconds\n",
      "Total time:                    10 minutes 36 seconds\n",
      "\n",
      "End time: 07:44 PM PDT on 30 Jun 2020\n",
      "beagle.18May20.d20.jar finished\n"
     ]
    },
    {
     "data": {
      "text/plain": [
       "2.0948825807170516e-5"
      ]
     },
     "execution_count": 2,
     "metadata": {},
     "output_type": "execute_result"
    }
   ],
   "source": [
    "# run beagle 5.1 (8 thread)\n",
    "run(`java -jar beagle.18May20.d20.jar gt=./compare1/target_masked.vcf.gz ref=./compare1/haplo_ref.bref3 out=./compare1/beagle.result nthreads=8`)\n",
    "    \n",
    "# beagle 5 error rate\n",
    "X_complete = convert_gt(Float32, \"./compare1/target.vcf.gz\")\n",
    "n, p = size(X_complete)\n",
    "X_beagle = convert_gt(Float32, \"./compare1/beagle.result.vcf.gz\")\n",
    "error_rate = sum(X_beagle .!= X_complete) / n / p"
   ]
  },
  {
   "cell_type": "markdown",
   "metadata": {},
   "source": [
    "# Minimac4 error\n",
    "\n",
    "Need to first convert reference vcf file to m3vcf using minimac3 (on Hoffman)\n",
    "\n",
    "```Julia\n",
    "minimac3 = \"/u/home/b/biona001/haplotype_comparisons/minimac3/Minimac3/bin/Minimac3\"\n",
    "@time run(`$minimac3 --refHaps haplo_ref.vcf.gz --processReference --prefix haplo_ref`)\n",
    "```"
   ]
  },
  {
   "cell_type": "code",
   "execution_count": 17,
   "metadata": {
    "collapsed": false
   },
   "outputs": [
    {
     "name": "stdout",
     "output_type": "stream",
     "text": [
      "\n",
      "\n",
      " -------------------------------------------------------------------------------- \n",
      "          Minimac4 - Fast Imputation Based on State Space Reduction HMM\n",
      " --------------------------------------------------------------------------------\n",
      "           (c) 2014 - Sayantan Das, Christian Fuchsberger, David Hinds\n",
      "                             Mary Kate Wing, Goncalo Abecasis \n",
      "\n",
      " Version: 1.0.2;\n",
      " Built: Mon Sep 30 11:52:22 PDT 2019 by biona001\n",
      "\n",
      " Command Line Options: \n",
      "       Reference Haplotypes : --refHaps [haplo_ref.m3vcf.gz], --passOnly,\n",
      "                              --rsid, --referenceEstimates [ON],\n",
      "                              --mapFile [docs/geneticMapFile.b38.map.txt.gz]\n",
      "          Target Haplotypes : --haps [target_masked.vcf.gz]\n",
      "          Output Parameters : --prefix [minimac4.result], --estimate,\n",
      "                              --nobgzip, --vcfBuffer [200], --format [GT,DS],\n",
      "                              --allTypedSites, --meta, --memUsage\n",
      "        Chunking Parameters : --ChunkLengthMb [20.00], --ChunkOverlapMb [3.00]\n",
      "          Subset Parameters : --chr [], --start, --end, --window\n",
      "   Approximation Parameters : --minimac3, --probThreshold [0.01],\n",
      "                              --diffThreshold [0.01], --topThreshold [0.01]\n",
      "           Other Parameters : --log, --help, --cpus [1], --params\n",
      "                  PhoneHome : --noPhoneHome, --phoneHomeThinning [50]\n",
      "\n",
      "\n",
      " URL = http://genome.sph.umich.edu/wiki/Minimac4\n",
      " Starting Main Imputation/Estimation Analysis ... \n",
      "\n",
      " Performing preliminary check on input parameters... \n",
      "\n",
      " ------------------------------------------------------------------------------\n",
      "                             PRELIMINARY FILE CHECK                            \n",
      " ------------------------------------------------------------------------------\n",
      "\n",
      " Checking GWAS haplotype file : target_masked.vcf.gz\n",
      "\n",
      " Gathering variant information ...\n",
      "\n",
      " Successful !!! \n",
      "\n",
      " Checking Reference haplotype file : haplo_ref.m3vcf.gz\n",
      "\n",
      " Gathering variant information ...\n",
      "\n",
      " Successful !!! \n",
      "\n",
      " Reference Panel   : Found 1000 samples (2000 haplotypes) and 35897 variants ...\n",
      "\n",
      " Target/GWAS Panel : Found 1000 samples (2000 haplotypes) and 35897 variants ...\n",
      "                     35897 variants overlap with Reference panel \n",
      "                     0 variants imported that exist only in Target/GWAS panel\n",
      "\n",
      " ------------------------------------------------------------------------------\n",
      "                           CHUNKING INFORMATION                           \n",
      " ------------------------------------------------------------------------------\n",
      "\n",
      " Chunking region into 1 chunk(s) with atleast 35897 variants in each chunk ... \n",
      "\n",
      " Details of chunks is given below ...\n",
      "\n",
      " No   LeftBuffer      LeftEnd   RightPoint  RightBuffer       #Sites(GWAS/Ref/%)\n",
      " -------------------------------------------------------------------------------\n",
      "  1           36           36      4999683      4999683    35897/   35897/ 100.00%\n",
      "\n",
      "\n",
      " ------------------------------------------------------------------------------\n",
      "                           MAIN IMPUTATION ANALYSIS                            \n",
      " ------------------------------------------------------------------------------\n",
      "\n",
      " Starting imputation analysis of 1 chunk(s) ... \n",
      "\n",
      " -------------------------------------------\n",
      " Analyzing Chunk 1/1 [1:36-4999683]\n",
      " -------------------------------------------\n",
      "\n",
      " Reading chunk from reference panel ... \n",
      " Reading chunk from target/GWAS panel ... \n",
      "\n",
      " Compressing reference panel at GWAS sites ... \n",
      " Re-compression successful (33 seconds) !!!\n",
      "\n",
      " Starting Imputation ...\n",
      "\n",
      "  Imputing Samples 1-200 [20%] out of 1000 samples ...\n",
      "       Saving Samples in temporary VCF file ... \n",
      "  Imputing Samples 201-400 [40%] out of 1000 samples ...\n",
      "       Saving Samples in temporary VCF file ... \n",
      "  Imputing Samples 401-600 [60%] out of 1000 samples ...\n",
      "       Saving Samples in temporary VCF file ... \n",
      "  Imputing Samples 601-800 [80%] out of 1000 samples ...\n",
      "       Saving Samples in temporary VCF file ... \n",
      "  Imputing Samples 801-1000 [100%] out of 1000 samples ...\n",
      "       Saving Samples in temporary VCF file ... \n",
      "\n",
      " Imputation successful (524 seconds) !!!\n",
      "\n",
      " Appending chunk to final output VCF File :  minimac4.result.dose.vcf.gz \n",
      " Appending successful (3 seconds) !!!\n",
      "\n",
      " Time taken for this chunk = 567 seconds.\n",
      "\n",
      " ------------------------------------------------------------------------------\n",
      "                              SUMMARY OF ANALYSIS                              \n",
      " ------------------------------------------------------------------------------\n",
      "\n",
      " Info file written to                    : minimac4.result.info\n",
      " Imputed VCF information written to      : minimac4.result.dose.vcf.gz\n",
      "\n",
      " Time Taken for Reading File             = 10 seconds\n",
      " Time Taken for Re-compression           = 33 seconds\n",
      " Time Taken for Imputation               = 514 seconds\n",
      " Time Taken for Writing File             = 13 seconds\n",
      "\n",
      " ------------------------------------------------------------------------------\n",
      "                                END OF PROGRAM                                 \n",
      " ------------------------------------------------------------------------------\n",
      "\n",
      " Program Successfully Implemented... \n",
      " \n",
      " Total Run completed in 0 hours, 9 mins, 32 seconds.\n",
      "\n",
      " Thank You for using Minimac4 !!! \n",
      "\n"
     ]
    },
    {
     "data": {
      "text/plain": [
       "0.00018399866284090594"
      ]
     },
     "execution_count": 17,
     "metadata": {},
     "output_type": "execute_result"
    }
   ],
   "source": [
    "# run minimac 4\n",
    "minimac4 = \"/Users/biona001/Benjamin_Folder/UCLA/research/softwares/Minimac4/build/minimac4\"\n",
    "run(`$minimac4 --refHaps haplo_ref.m3vcf.gz --haps target_masked.vcf.gz --prefix minimac4.result`)\n",
    "    \n",
    "X_minimac = convert_gt(Float32, \"minimac4.result.dose.vcf.gz\", as_minorallele=false)\n",
    "error_rate = sum(X_minimac .!= X_complete) / n / p"
   ]
  },
  {
   "cell_type": "code",
   "execution_count": null,
   "metadata": {
    "collapsed": true
   },
   "outputs": [],
   "source": []
  },
  {
   "cell_type": "code",
   "execution_count": null,
   "metadata": {
    "collapsed": true
   },
   "outputs": [],
   "source": []
  },
  {
   "cell_type": "code",
   "execution_count": null,
   "metadata": {
    "collapsed": true
   },
   "outputs": [],
   "source": []
  },
  {
   "cell_type": "markdown",
   "metadata": {},
   "source": [
    "# BLAS 2 "
   ]
  },
  {
   "cell_type": "code",
   "execution_count": 5,
   "metadata": {
    "collapsed": false
   },
   "outputs": [
    {
     "name": "stderr",
     "output_type": "stream",
     "text": [
      "\u001b[32mImporting genotype file...100%|█████████████████████████| Time: 0:00:08\u001b[39m\n",
      "\u001b[32mWriting to file...100%|█████████████████████████████████| Time: 0:00:05\u001b[39m\n"
     ]
    },
    {
     "name": "stdout",
     "output_type": "stream",
     "text": [
      "Total windows = 70, averaging ~ 324 unique haplotypes per window.\n",
      "\n",
      "Timings: \n",
      "    Data import                     = 9.06753 seconds\n",
      "    Computing haplotype pair        = 4.12708 seconds\n",
      "        computing dist(X, H)           = 0.102362 seconds per thread\n",
      "        BLAS3 mul! to get M and N      = 3.08088 seconds per thread\n",
      "        haplopair search               = 0.115584 seconds per thread\n",
      "        finding redundant happairs     = 0.077741 seconds per thread\n",
      "    Phasing by dynamic programming  = 2.44924 seconds\n",
      "    Imputation                      = 5.92068 seconds\n",
      "\n",
      " 21.565006 seconds (73.97 M allocations: 6.675 GiB, 4.47% gc time)\n"
     ]
    },
    {
     "data": {
      "text/plain": [
       "0.00012427222330556873"
      ]
     },
     "execution_count": 5,
     "metadata": {},
     "output_type": "execute_result"
    }
   ],
   "source": [
    "# haplopair_thin (doesn't accounts for allele freq), keep = 100 (1 thread)\n",
    "Random.seed!(2020)\n",
    "tgtfile = \"./compare1/target_masked.vcf.gz\"\n",
    "reffile = \"./compare1/haplo_ref.jlso\"\n",
    "outfile = \"./compare1/imputed_target.vcf.gz\"\n",
    "width   = 512\n",
    "@time hs, ph = phase(tgtfile, reffile, outfile = outfile, width = width, \n",
    "    thinning_factor=100, thinning_scale_allelefreq=false);\n",
    "\n",
    "# import imputed result and compare with true\n",
    "X_mendel = convert_gt(Float32, outfile)\n",
    "X_complete = convert_gt(Float32, \"./compare1/target.vcf.gz\")\n",
    "n, p = size(X_mendel)\n",
    "error_rate = sum(X_mendel .!= X_complete) / n / p"
   ]
  },
  {
   "cell_type": "markdown",
   "metadata": {},
   "source": [
    "# BLAS 3"
   ]
  },
  {
   "cell_type": "code",
   "execution_count": 4,
   "metadata": {
    "collapsed": false
   },
   "outputs": [
    {
     "name": "stderr",
     "output_type": "stream",
     "text": [
      "\u001b[32mImporting genotype file...100%|█████████████████████████| Time: 0:00:08\u001b[39m\n",
      "\u001b[32mWriting to file...100%|█████████████████████████████████| Time: 0:00:06\u001b[39m\n"
     ]
    },
    {
     "name": "stdout",
     "output_type": "stream",
     "text": [
      "Total windows = 70, averaging ~ 324 unique haplotypes per window.\n",
      "\n",
      "Timings: \n",
      "    Data import                     = 8.99109 seconds\n",
      "    Computing haplotype pair        = 4.14255 seconds\n",
      "        computing dist(X, H)           = 0.103014 seconds per thread\n",
      "        BLAS3 mul! to get M and N      = 3.12272 seconds per thread\n",
      "        haplopair search               = 0.121277 seconds per thread\n",
      "        finding redundant happairs     = 0.0745271 seconds per thread\n",
      "    Phasing by dynamic programming  = 2.65593 seconds\n",
      "    Imputation                      = 6.88047 seconds\n",
      "\n",
      " 22.670608 seconds (73.97 M allocations: 6.675 GiB, 4.33% gc time)\n"
     ]
    },
    {
     "data": {
      "text/plain": [
       "0.00012427222330556873"
      ]
     },
     "execution_count": 4,
     "metadata": {},
     "output_type": "execute_result"
    }
   ],
   "source": [
    "# haplopair_thin (doesn't accounts for allele freq), keep = 100 (1 thread)\n",
    "Random.seed!(2020)\n",
    "tgtfile = \"./compare1/target_masked.vcf.gz\"\n",
    "reffile = \"./compare1/haplo_ref.jlso\"\n",
    "outfile = \"./compare1/imputed_target.vcf.gz\"\n",
    "width   = 512\n",
    "@time hs, ph = phase(tgtfile, reffile, outfile = outfile, width = width, \n",
    "    thinning_factor=100, thinning_scale_allelefreq=false);\n",
    "\n",
    "# import imputed result and compare with true\n",
    "X_mendel = convert_gt(Float32, outfile)\n",
    "X_complete = convert_gt(Float32, \"./compare1/target.vcf.gz\")\n",
    "n, p = size(X_mendel)\n",
    "error_rate = sum(X_mendel .!= X_complete) / n / p"
   ]
  },
  {
   "cell_type": "code",
   "execution_count": null,
   "metadata": {
    "collapsed": true
   },
   "outputs": [],
   "source": []
  }
 ],
 "metadata": {
  "@webio": {
   "lastCommId": null,
   "lastKernelId": null
  },
  "kernelspec": {
   "display_name": "Julia 1.3.1",
   "language": "julia",
   "name": "julia-1.3"
  },
  "language_info": {
   "file_extension": ".jl",
   "mimetype": "application/julia",
   "name": "julia",
   "version": "1.3.1"
  }
 },
 "nbformat": 4,
 "nbformat_minor": 2
}

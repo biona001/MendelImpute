{
 "cells": [
  {
   "cell_type": "markdown",
   "metadata": {},
   "source": [
    "# Compare MendelImpute against Minimac4 and Beagle5 on simulated data\n",
    "\n",
    "Here data is simulated by myself. Code can be found [here](https://github.com/biona001/MendelImpute/blob/flanking_window/src/simulate_utilities.jl#L179). "
   ]
  },
  {
   "cell_type": "code",
   "execution_count": 1,
   "metadata": {
    "collapsed": false
   },
   "outputs": [
    {
     "name": "stderr",
     "output_type": "stream",
     "text": [
      "┌ Warning: no Manifest.toml file found, static paths used\n",
      "└ @ Revise /Users/biona001/.julia/packages/Revise/439di/src/Revise.jl:1108\n",
      "┌ Info: Precompiling MendelImpute [e47305d1-6a61-5370-bc5d-77554d143183]\n",
      "└ @ Base loading.jl:1273\n"
     ]
    }
   ],
   "source": [
    "using Revise\n",
    "using VCFTools\n",
    "using MendelImpute\n",
    "using GeneticVariation\n",
    "using Random\n",
    "using SparseArrays\n",
    "using Plots"
   ]
  },
  {
   "cell_type": "markdown",
   "metadata": {},
   "source": [
    "# Simulate data\n",
    "\n",
    "We simulate 10000 reference haplotypes each with 30000 SNPs. Then we use this haplotype matrix to construct a genotype matrix matrix with 1000 samples and 30000 SNPs. The genotype matrix are randomly masked to generate the missing values. The result is stored in 3 files:\n",
    "\n",
    "+ `haplo_ref.vcf.gz`: haplotype reference files\n",
    "+ `target.vcf.gz`: complete genotype information\n",
    "+ `target_masked.vcf.gz`: the same as `target.vcf.gz` except some entries are masked"
   ]
  },
  {
   "cell_type": "code",
   "execution_count": 13,
   "metadata": {
    "collapsed": false
   },
   "outputs": [
    {
     "name": "stdout",
     "output_type": "stream",
     "text": [
      "  0.040264 seconds (7 allocations: 366.531 KiB)\n",
      "  0.002332 seconds (4.83 k allocations: 2.887 MiB)\n",
      "  0.014382 seconds (23 allocations: 7.153 MiB, 71.58% gc time)\n",
      "  1.245475 seconds (10.55 M allocations: 528.691 MiB, 2.64% gc time)\n",
      "  0.137681 seconds (24.05 k allocations: 1.265 MiB)\n",
      "  0.140974 seconds (24.05 k allocations: 1.265 MiB)\n"
     ]
    }
   ],
   "source": [
    "# For the case, snps = 3000, haps = 1000, people = 100, error rates are: \n",
    "# MendelImpute (slow) = 0.00421 (2.3 sec), MendelImpute (fast) = 0.00471 (1.4 sec), beagle = 0.04188 (8 sec), minimac4 = 0.0301 (33 + 21 sec)\n",
    "snps   = 3000\n",
    "haps   = 1000\n",
    "people = 100\n",
    "\n",
    "# full haplotype and genotype matrix\n",
    "@time H = simulate_markov_haplotypes(snps, haps)\n",
    "@time X = simulate_genotypes(H, people)\n",
    "\n",
    "# randomly mask entries\n",
    "Random.seed!(2020)\n",
    "missingprop = 0.1\n",
    "@time Xm = ifelse.(rand(snps, people) .< missingprop, missing, X)\n",
    "\n",
    "# write 3 files to disk\n",
    "@time make_refvcf_file(H, vcffilename=\"./compare3/haplo_ref.vcf.gz\")\n",
    "@time make_tgtvcf_file(X, vcffilename=\"./compare3/target.vcf.gz\")\n",
    "@time make_tgtvcf_file(Xm, vcffilename=\"./compare3/target_masked.vcf.gz\")"
   ]
  },
  {
   "cell_type": "markdown",
   "metadata": {},
   "source": [
    "# MendelImpute error"
   ]
  },
  {
   "cell_type": "code",
   "execution_count": 15,
   "metadata": {
    "collapsed": false
   },
   "outputs": [
    {
     "data": {
      "text/plain": [
       "100×3000 Array{Union{Missing, Float32},2}:\n",
       " 1.0       1.0       0.0       1.0       …  1.0       2.0       2.0     \n",
       " 0.0        missing  0.0       1.0           missing   missing  1.0     \n",
       " 1.0       2.0       2.0       2.0          2.0       1.0       1.0     \n",
       " 1.0       1.0       1.0       0.0          1.0       1.0       1.0     \n",
       "  missing  1.0       2.0       1.0          2.0       2.0       1.0     \n",
       "  missing  1.0       1.0       2.0       …  0.0       0.0       0.0     \n",
       " 2.0       1.0        missing  2.0          2.0       1.0       2.0     \n",
       " 1.0       1.0       0.0        missing     1.0       1.0       1.0     \n",
       " 1.0       0.0       0.0       0.0          2.0       2.0        missing\n",
       " 1.0       1.0       1.0       1.0          1.0       1.0       1.0     \n",
       " 2.0       1.0       2.0       0.0       …  0.0       1.0       1.0     \n",
       " 1.0       1.0       0.0       0.0          2.0       2.0       1.0     \n",
       " 1.0       0.0       1.0       0.0          0.0       1.0       1.0     \n",
       " ⋮                                       ⋱                              \n",
       " 0.0       0.0        missing   missing     1.0        missing  0.0     \n",
       "  missing  1.0       1.0        missing     0.0       0.0       1.0     \n",
       " 1.0        missing  1.0       0.0       …  0.0       0.0       0.0     \n",
       " 1.0       2.0       1.0       1.0          1.0       1.0       1.0     \n",
       " 2.0       2.0       1.0       2.0          1.0       1.0       0.0     \n",
       " 0.0        missing  0.0       0.0          1.0       1.0        missing\n",
       " 0.0        missing  2.0       0.0          1.0       1.0       1.0     \n",
       " 1.0       1.0       0.0       0.0       …  1.0       1.0       2.0     \n",
       " 1.0       1.0       2.0       2.0          2.0       2.0       1.0     \n",
       " 1.0       2.0       2.0       2.0          2.0       2.0       2.0     \n",
       " 2.0       2.0       2.0       2.0          1.0       1.0        missing\n",
       " 0.0       0.0       1.0       2.0          1.0       2.0       2.0     "
      ]
     },
     "execution_count": 15,
     "metadata": {},
     "output_type": "execute_result"
    }
   ],
   "source": [
    "# read original target data (all entries observed)\n",
    "X_complete = convert_gt(Float32, \"./compare3/target.vcf.gz\"; as_minorallele=false)\n",
    "Xm = convert_gt(Float32, \"./compare3/target_masked.vcf.gz\"; as_minorallele=false)\n",
    "Xm_original = copy(Xm)"
   ]
  },
  {
   "cell_type": "markdown",
   "metadata": {},
   "source": [
    "### Fastest code with flanking windows"
   ]
  },
  {
   "cell_type": "code",
   "execution_count": 21,
   "metadata": {
    "collapsed": false
   },
   "outputs": [
    {
     "name": "stdout",
     "output_type": "stream",
     "text": [
      "  1.400644 seconds (5.30 M allocations: 499.802 MiB)\n"
     ]
    },
    {
     "data": {
      "text/plain": [
       "0.004706666666666666"
      ]
     },
     "execution_count": 21,
     "metadata": {},
     "output_type": "execute_result"
    }
   ],
   "source": [
    "# impute\n",
    "tgtfile = \"./compare3/target_masked.vcf.gz\"\n",
    "reffile = \"./compare3/haplo_ref.vcf.gz\"\n",
    "outfile = \"./compare3/imputed_target.vcf.gz\"\n",
    "width   = 400\n",
    "@time hs, ph = phase(tgtfile, reffile, impute=true, outfile = outfile, width = width);\n",
    "\n",
    "# import imputed result and compare with true\n",
    "X_mendel = convert_gt(Float32, outfile, as_minorallele=false)\n",
    "p, n = size(X_mendel)\n",
    "error_rate = sum(X_complete .!= X_mendel) / p / n"
   ]
  },
  {
   "cell_type": "markdown",
   "metadata": {},
   "source": [
    "### Most accurate code with flanking windows"
   ]
  },
  {
   "cell_type": "code",
   "execution_count": 19,
   "metadata": {
    "collapsed": false
   },
   "outputs": [
    {
     "name": "stdout",
     "output_type": "stream",
     "text": [
      "  1.855045 seconds (5.33 M allocations: 527.062 MiB, 2.43% gc time)\n"
     ]
    },
    {
     "data": {
      "text/plain": [
       "0.00411"
      ]
     },
     "execution_count": 19,
     "metadata": {},
     "output_type": "execute_result"
    }
   ],
   "source": [
    "# impute\n",
    "tgtfile = \"./compare3/target_masked.vcf.gz\"\n",
    "reffile = \"./compare3/haplo_ref.vcf.gz\"\n",
    "outfile = \"./compare3/imputed_target.vcf.gz\"\n",
    "width   = 400\n",
    "@time hs, ph = phase(tgtfile, reffile, impute=true, outfile = outfile, width = width);\n",
    "\n",
    "# import imputed result and compare with true\n",
    "X_mendel = convert_gt(Float32, outfile, as_minorallele=false)\n",
    "p, n = size(X_mendel)\n",
    "error_rate = sum(X_complete .!= X_mendel) / p / n"
   ]
  },
  {
   "cell_type": "markdown",
   "metadata": {},
   "source": [
    "# Beagle 5 error"
   ]
  },
  {
   "cell_type": "code",
   "execution_count": 18,
   "metadata": {
    "collapsed": false
   },
   "outputs": [
    {
     "name": "stdout",
     "output_type": "stream",
     "text": [
      "beagle.28Sep18.793.jar (version 5.0)\n",
      "Copyright (C) 2014-2018 Brian L. Browning\n",
      "Enter \"java -jar beagle.28Sep18.793.jar\" to list command line argument\n",
      "Start time: 10:38 AM PST on 13 Jan 2020\n",
      "\n",
      "Command line: java -Xmx3641m -jar beagle.28Sep18.793.jar\n",
      "  gt=./compare3/target_masked.vcf.gz\n",
      "  ref=./compare3/haplo_ref.vcf.gz\n",
      "  out=./compare3/beagle.result\n",
      "\n",
      "No genetic map is specified: using 1 cM = 1 Mb\n",
      "\n",
      "Reference samples:         500\n",
      "Study samples:             100\n",
      "\n",
      "Window 1 (1:1-3000)\n",
      "Reference markers:       3,000\n",
      "Study markers:           3,000\n",
      "\n",
      "Burnin  iteration 1:           1 second\n",
      "Burnin  iteration 2:           0 seconds\n",
      "Burnin  iteration 3:           0 seconds\n",
      "Burnin  iteration 4:           0 seconds\n",
      "Burnin  iteration 5:           1 second\n",
      "Burnin  iteration 6:           0 seconds\n",
      "\n",
      "Phasing iteration 1:           0 seconds\n",
      "Phasing iteration 2:           0 seconds\n",
      "Phasing iteration 3:           0 seconds\n",
      "Phasing iteration 4:           0 seconds\n",
      "Phasing iteration 5:           0 seconds\n",
      "Phasing iteration 6:           0 seconds\n",
      "Phasing iteration 7:           0 seconds\n",
      "Phasing iteration 8:           0 seconds\n",
      "Phasing iteration 9:           0 seconds\n",
      "Phasing iteration 10:          0 seconds\n",
      "Phasing iteration 11:          0 seconds\n",
      "Phasing iteration 12:          0 seconds\n",
      "\n",
      "Cumulative Statistics:\n",
      "\n",
      "Study markers:           3,000\n",
      "\n",
      "Haplotype phasing time:        7 seconds\n",
      "Total time:                    8 seconds\n",
      "\n",
      "End time: 10:39 AM PST on 13 Jan 2020\n",
      "beagle.28Sep18.793.jar finished\n"
     ]
    },
    {
     "data": {
      "text/plain": [
       "0.04188"
      ]
     },
     "execution_count": 18,
     "metadata": {},
     "output_type": "execute_result"
    }
   ],
   "source": [
    "# run beagle 5 and import imputed data \n",
    "run(`java -jar beagle.28Sep18.793.jar gt=./compare3/target_masked.vcf.gz ref=./compare3/haplo_ref.vcf.gz out=./compare3/beagle.result`)\n",
    "\n",
    "# beagle 5 error rate\n",
    "X_beagle = convert_gt(Float32, \"./compare3/beagle.result.vcf.gz\", as_minorallele=false)\n",
    "error_rate = sum(X_complete .!= X_beagle) / p / n"
   ]
  },
  {
   "cell_type": "markdown",
   "metadata": {},
   "source": [
    "# Minimac4 error\n",
    "\n",
    "Need to first convert reference vcf file to m3vcf using minimac3 (on Hoffman)\n",
    "\n",
    "```Julia\n",
    "minimac3 = \"/u/home/b/biona001/haplotype_comparisons/minimac3/Minimac3/bin/Minimac3\"\n",
    "@time run(`$minimac3 --refHaps haplo_ref.vcf.gz --processReference --prefix haplo_ref`)\n",
    "```"
   ]
  },
  {
   "cell_type": "code",
   "execution_count": 22,
   "metadata": {
    "collapsed": false,
    "scrolled": true
   },
   "outputs": [
    {
     "name": "stdout",
     "output_type": "stream",
     "text": [
      "\n",
      "\n",
      " -------------------------------------------------------------------------------- \n",
      "          Minimac4 - Fast Imputation Based on State Space Reduction HMM\n",
      " --------------------------------------------------------------------------------\n",
      "           (c) 2014 - Sayantan Das, Christian Fuchsberger, David Hinds\n",
      "                             Mary Kate Wing, Goncalo Abecasis \n",
      "\n",
      " Version: 1.0.2;\n",
      " Built: Mon Sep 30 11:52:22 PDT 2019 by biona001\n",
      "\n",
      " Command Line Options: \n",
      "       Reference Haplotypes : --refHaps [./compare3/haplo_ref.m3vcf.gz],\n",
      "                              --passOnly, --rsid, --referenceEstimates [ON],\n",
      "                              --mapFile [docs/geneticMapFile.b38.map.txt.gz]\n",
      "          Target Haplotypes : --haps [./compare3/target_masked.vcf.gz]\n",
      "          Output Parameters : --prefix [./compare3/minimac4.result],\n",
      "                              --estimate, --nobgzip, --vcfBuffer [200],\n",
      "                              --format [GT,DS], --allTypedSites, --meta,\n",
      "                              --memUsage\n",
      "        Chunking Parameters : --ChunkLengthMb [20.00], --ChunkOverlapMb [3.00]\n",
      "          Subset Parameters : --chr [], --start, --end, --window\n",
      "   Approximation Parameters : --minimac3, --probThreshold [0.01],\n",
      "                              --diffThreshold [0.01], --topThreshold [0.01]\n",
      "           Other Parameters : --log, --help, --cpus [1], --params\n",
      "                  PhoneHome : --noPhoneHome, --phoneHomeThinning [50]\n",
      "\n",
      "\n",
      " URL = http://genome.sph.umich.edu/wiki/Minimac4\n",
      " Starting Main Imputation/Estimation Analysis ... \n",
      "\n",
      " Performing preliminary check on input parameters... \n",
      "\n",
      " ------------------------------------------------------------------------------\n",
      "                             PRELIMINARY FILE CHECK                            \n",
      " ------------------------------------------------------------------------------\n",
      "\n",
      " Checking GWAS haplotype file : ./compare3/target_masked.vcf.gz\n",
      "\n",
      " Gathering variant information ...\n",
      "\n",
      " Successful !!! \n",
      "\n",
      " Checking Reference haplotype file : ./compare3/haplo_ref.m3vcf.gz\n",
      "\n",
      " Gathering variant information ...\n",
      "\n",
      " Successful !!! \n",
      "\n",
      " Reference Panel   : Found 500 samples (1000 haplotypes) and 3000 variants ...\n",
      "\n",
      " Target/GWAS Panel : Found 100 samples (200 haplotypes) and 3000 variants ...\n",
      "                     3000 variants overlap with Reference panel \n",
      "                     0 variants imported that exist only in Target/GWAS panel\n",
      "\n",
      " ------------------------------------------------------------------------------\n",
      "                           CHUNKING INFORMATION                           \n",
      " ------------------------------------------------------------------------------\n",
      "\n",
      " Chunking region into 1 chunk(s) with atleast 3000 variants in each chunk ... \n",
      "\n",
      " Details of chunks is given below ...\n",
      "\n",
      " No   LeftBuffer      LeftEnd   RightPoint  RightBuffer       #Sites(GWAS/Ref/%)\n",
      " -------------------------------------------------------------------------------\n",
      "  1            1            1         3000         3000     3000/    3000/ 100.00%\n",
      "\n",
      "\n",
      " ------------------------------------------------------------------------------\n",
      "                           MAIN IMPUTATION ANALYSIS                            \n",
      " ------------------------------------------------------------------------------\n",
      "\n",
      " Starting imputation analysis of 1 chunk(s) ... \n",
      "\n",
      " -------------------------------------------\n",
      " Analyzing Chunk 1/1 [1:1-3000]\n",
      " -------------------------------------------\n",
      "\n",
      " Reading chunk from reference panel ... \n",
      " Reading chunk from target/GWAS panel ... \n",
      "\n",
      " Compressing reference panel at GWAS sites ... \n",
      " Re-compression successful (1 seconds) !!!\n",
      "\n",
      " Starting Imputation ...\n",
      "\n",
      "  Imputing Samples 1-100 [100%] out of 100 samples ...\n",
      "       Saving Samples in temporary VCF file ... \n",
      "\n",
      " Imputation successful (19 seconds) !!!\n",
      "\n",
      " Appending chunk to final output VCF File :  ./compare3/minimac4.result.dose.vcf.gz \n",
      " Appending successful (0 seconds) !!!\n",
      "\n",
      " Time taken for this chunk = 20 seconds.\n",
      "\n",
      " ------------------------------------------------------------------------------\n",
      "                              SUMMARY OF ANALYSIS                              \n",
      " ------------------------------------------------------------------------------\n",
      "\n",
      " Info file written to                    : ./compare3/minimac4.result.info\n",
      " Imputed VCF information written to      : ./compare3/minimac4.result.dose.vcf.gz\n",
      "\n",
      " Time Taken for Reading File             = 1 seconds\n",
      " Time Taken for Re-compression           = 1 seconds\n",
      " Time Taken for Imputation               = 18 seconds\n",
      " Time Taken for Writing File             = 1 seconds\n",
      "\n",
      " ------------------------------------------------------------------------------\n",
      "                                END OF PROGRAM                                 \n",
      " ------------------------------------------------------------------------------\n",
      "\n",
      " Program Successfully Implemented... \n",
      " \n",
      " Total Run completed in 0 hours, 0 mins, 21 seconds.\n",
      "\n",
      " Thank You for using Minimac4 !!! \n",
      "\n"
     ]
    },
    {
     "data": {
      "text/plain": [
       "Process(`\u001b[4m/Users/biona001/Benjamin_Folder/UCLA/research/softwares/Minimac4/build/minimac4\u001b[24m \u001b[4m--refHaps\u001b[24m \u001b[4m./compare3/haplo_ref.m3vcf.gz\u001b[24m \u001b[4m--haps\u001b[24m \u001b[4m./compare3/target_masked.vcf.gz\u001b[24m \u001b[4m--prefix\u001b[24m \u001b[4m./compare3/minimac4.result\u001b[24m`, ProcessExited(0))"
      ]
     },
     "execution_count": 22,
     "metadata": {},
     "output_type": "execute_result"
    }
   ],
   "source": [
    "# run minimac 4\n",
    "minimac4 = \"/Users/biona001/Benjamin_Folder/UCLA/research/softwares/Minimac4/build/minimac4\"\n",
    "run(`$minimac4 --refHaps ./compare3/haplo_ref.m3vcf.gz --haps ./compare3/target_masked.vcf.gz --prefix ./compare3/minimac4.result`)"
   ]
  },
  {
   "cell_type": "code",
   "execution_count": 23,
   "metadata": {
    "collapsed": false
   },
   "outputs": [
    {
     "data": {
      "text/plain": [
       "0.030166666666666665"
      ]
     },
     "execution_count": 23,
     "metadata": {},
     "output_type": "execute_result"
    }
   ],
   "source": [
    "X_minimac = convert_gt(Float32, \"./compare3/minimac4.result.dose.vcf.gz\", as_minorallele=false)\n",
    "error_rate = sum(X_complete .!= X_minimac) / n / p"
   ]
  },
  {
   "cell_type": "code",
   "execution_count": null,
   "metadata": {
    "collapsed": true
   },
   "outputs": [],
   "source": []
  }
 ],
 "metadata": {
  "@webio": {
   "lastCommId": null,
   "lastKernelId": null
  },
  "kernelspec": {
   "display_name": "Julia 1.3.0-rc4",
   "language": "julia",
   "name": "julia-1.3"
  },
  "language_info": {
   "file_extension": ".jl",
   "mimetype": "application/julia",
   "name": "julia",
   "version": "1.3.1"
  }
 },
 "nbformat": 4,
 "nbformat_minor": 2
}

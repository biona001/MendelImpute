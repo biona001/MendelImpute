{
 "cells": [
  {
   "cell_type": "markdown",
   "metadata": {},
   "source": [
    "# Ultra-compressed format\n",
    "\n",
    "One can optionally save/load ultra-compressed phased genotypes after imputation. Ultra-compression is nothing fancy. Instead of converting haplotype segments into genotypes, this protocol simply saves the starting position and the correct haplotype label. We put this result into our own data structure, and saving/loading is achieved by the [JLSO package](https://github.com/invenia/JLSO.jl). \n",
    "\n",
    "## Saving\n",
    "\n",
    "Appending `.jlso` to the output file name will signal MendelImpute to save data in ultra-compressed format. For admixture estimation, we strongly recommend one to save in `.jlso` format."
   ]
  },
  {
   "cell_type": "code",
   "execution_count": 1,
   "metadata": {
    "collapsed": false
   },
   "outputs": [
    {
     "name": "stdout",
     "output_type": "stream",
     "text": [
      "Number of threads = 1\n",
      "Importing reference haplotype data...\n"
     ]
    },
    {
     "name": "stderr",
     "output_type": "stream",
     "text": [
      "\u001b[32mComputing optimal haplotypes...100%|████████████████████| Time: 0:00:22\u001b[39m\n"
     ]
    },
    {
     "name": "stdout",
     "output_type": "stream",
     "text": [
      "Total windows = 1634, averaging ~ 508 unique haplotypes per window.\n",
      "\n",
      "Timings: \n",
      "    Data import                     = 14.2706 seconds\n",
      "        import target data             = 3.27572 seconds\n",
      "        import compressed haplotypes   = 10.9948 seconds\n",
      "    Computing haplotype pair        = 22.7159 seconds\n",
      "        BLAS3 mul! to get M and N      = 1.00284 seconds per thread\n",
      "        haplopair search               = 18.0964 seconds per thread\n",
      "        initializing missing           = 0.095897 seconds per thread\n",
      "        allocating and viewing         = 0.310543 seconds per thread\n",
      "        index conversion               = 0.00992562 seconds per thread\n",
      "    Phasing by win-win intersection = 1.30819 seconds\n",
      "        Window-by-window intersection  = 0.525698 seconds per thread\n",
      "        Breakpoint search              = 0.275337 seconds per thread\n",
      "        Recording result               = 0.0496237 seconds per thread\n",
      "    Imputation                     = 2.84315 seconds\n",
      "        Imputing missing               = 0.0505533 seconds\n",
      "        Writing to file                = 2.7926 seconds\n",
      "\n",
      "    Total time                      = 41.2741 seconds\n",
      "\n",
      " 58.892784 seconds (137.79 M allocations: 7.481 GiB, 5.92% gc time)\n"
     ]
    }
   ],
   "source": [
    "# first load all necessary packages\n",
    "using MendelImpute\n",
    "using VCFTools\n",
    "\n",
    "# compute each person's phase information\n",
    "tgtfile = \"target.chr22.typedOnly.masked.vcf.gz\"\n",
    "reffile = \"ref.chr22.maxd1000.excludeTarget.jlso\"\n",
    "outfile = \"mendel.imputed.jlso\" # output file name ends in jlso!\n",
    "@time phaseinfo = phase(tgtfile, reffile, outfile=outfile, impute=true, max_d=1000);"
   ]
  },
  {
   "cell_type": "markdown",
   "metadata": {},
   "source": [
    "The object saved to `mendel.imputed.jlso` is literally the `phaseinfo` variable. We can inspect its element:"
   ]
  },
  {
   "cell_type": "code",
   "execution_count": 2,
   "metadata": {
    "collapsed": false
   },
   "outputs": [
    {
     "data": {
      "text/plain": [
       "547×2 Array{Int64,2}:\n",
       "      1  4119\n",
       "    236   887\n",
       "    423   272\n",
       "    622    12\n",
       "    754   124\n",
       "    802     4\n",
       "    824    24\n",
       "    968  1282\n",
       "   1125  1741\n",
       "   1202  4543\n",
       "   1691  1198\n",
       "   3031    22\n",
       "   3521    18\n",
       "      ⋮  \n",
       " 411702   877\n",
       " 412362    74\n",
       " 413734  3849\n",
       " 413868   248\n",
       " 414456    31\n",
       " 414552  3187\n",
       " 414989  4481\n",
       " 415807     5\n",
       " 416108   143\n",
       " 416353  1276\n",
       " 416844    71\n",
       " 417084   311"
      ]
     },
     "execution_count": 2,
     "metadata": {},
     "output_type": "execute_result"
    }
   ],
   "source": [
    "# look at sample 1's haplotype segments\n",
    "haplotype_labels = phaseinfo[1].strand1.haplotypelabel # strand1\n",
    "haplotype_start = phaseinfo[1].strand1.start # strand1\n",
    "[haplotype_start haplotype_labels]"
   ]
  },
  {
   "cell_type": "markdown",
   "metadata": {},
   "source": [
    "## Loading\n",
    "\n",
    "The function [convert_compressed](https://biona001.github.io/MendelImpute/dev/man/api/#MendelImpute.convert_compressed) will load the ultra-compressed data into genotype matrices and the original `phaseinfo` data structure. \n",
    "\n",
    "**Note: Decompressing requires loading the original haplotype reference panel.** "
   ]
  },
  {
   "cell_type": "code",
   "execution_count": 3,
   "metadata": {
    "collapsed": false
   },
   "outputs": [
    {
     "name": "stderr",
     "output_type": "stream",
     "text": [
      "\u001b[32mimporting reference data...100%|████████████████████████| Time: 0:01:52\u001b[39m\n"
     ]
    }
   ],
   "source": [
    "tgtfile = \"mendel.imputed.jlso\" # ultra-compressed genotypes after phasing & imputation\n",
    "reffile = \"ref.chr22.excludeTarget.vcf.gz\" # original haplotype reference file\n",
    "X1, X2, phaseinfo, sampleID, H = convert_compressed(Float64, tgtfile, reffile);"
   ]
  },
  {
   "cell_type": "markdown",
   "metadata": {},
   "source": [
    "Check this compression protocol exhibit same error rate with [standard VCF compression](https://biona001.github.io/MendelImpute/dev/man/Phasing+and+Imputation/#Step-4:-%28only-for-simulated-data%29-check-imputation-accuracy). Note that `X1`, `X2`, and `H` are transposed. "
   ]
  },
  {
   "cell_type": "code",
   "execution_count": 4,
   "metadata": {
    "collapsed": false
   },
   "outputs": [
    {
     "name": "stdout",
     "output_type": "stream",
     "text": [
      "error overall = 0.005397602533930585\n"
     ]
    }
   ],
   "source": [
    "X_truth  = convert_gt(Float64, \"target.chr22.full.vcf.gz\") # import true genotypes\n",
    "X_mendel = (X1 + X2)' # transpose X1 and X2\n",
    "n, p = size(X_mendel)\n",
    "println(\"error overall = $(sum(X_mendel .!= X_truth) / n / p)\")"
   ]
  }
 ],
 "metadata": {
  "@webio": {
   "lastCommId": null,
   "lastKernelId": null
  },
  "kernelspec": {
   "display_name": "Julia 1.5.0",
   "language": "julia",
   "name": "julia-1.5"
  },
  "language_info": {
   "file_extension": ".jl",
   "mimetype": "application/julia",
   "name": "julia",
   "version": "1.5.0"
  }
 },
 "nbformat": 4,
 "nbformat_minor": 2
}

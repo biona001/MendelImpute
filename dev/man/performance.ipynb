{
 "cells": [
  {
   "cell_type": "markdown",
   "metadata": {},
   "source": [
    "# Performance gotchas\n",
    "\n",
    "## Gotcha 1: Run MendelImpute in parallel\n",
    "\n",
    "To run `MendelImpute.jl` in parallel,\n",
    "1. To use 4 threads, execute `export JULIA_NUM_THREADS=4` **before** starting Julia. \n",
    "2. Verify the Julia session is running is parallel by executing `Threads.nthreads()` in Julia\n",
    "3. Set the number of BLAS threads to be 1 by `using LinearAlgebra; BLAS.set_num_threads(1)`. This avoids [oversubscription](https://ieeexplore.ieee.org/document/5470434). "
   ]
  },
  {
   "cell_type": "markdown",
   "metadata": {},
   "source": [
    "!!! note\n",
    "\n",
    "    We recommend number of threads equal to the number of physical CPU cores on your machine. **Do not use hyper-threading!!** In other words, don't set the number of Julia threads to be more than number of physical CPU cores. Hyperthreading is valuable for I/O operations (in our experience), but not for linear algebra routines used throughout MendelImpute. "
   ]
  },
  {
   "cell_type": "markdown",
   "metadata": {},
   "source": [
    "## Gotcha 2: `max_d` too high (or too low)\n",
    "\n",
    "When you compress the haplotype panels into a `.jlso` format, you specified `max_d` which is the maximum number of unique haplotypes per window. We generally recommend using `max_d = 1000`, BUT 1000 may be too small if you use a reference panel larger than HRC. In that case, you can try larger `max_d`, which will improve error rate. \n",
    "\n",
    "### Symptoms for `max_d` too high:\n",
    "\n",
    "`Computing optimal haplotypes` is too slow. In particular, the timing for `haplopair search` is too high. \n",
    "\n",
    "### Symptoms for `max_d` too low:\n",
    "\n",
    "Too few typed SNPs per window indicates `max_d` is set too low. You can calculate the number of typed SNPs per window by dividing the total number of SNPs in the target file by the total windows (a number that will be output after every run). Ideally you want an average of 400 typed SNPs per window, but something as low as 50 still works. Something like 10~20 is too low. \n",
    "\n",
    "### I really want to use a high `max_d`\n",
    "\n",
    "A high `max_d` generally improve error, so it is understandable you want to do so. If a high `max_d` value runs too slow, try setting `stepwise = 100` and `max_haplotypes` to a number that is close to 1000. This avoids searching the global minimizer of the least-squares problem for windows that have more than `max_haplotypes` number of unique haplotypes. Setting `thinning_factor` instead of `stepwise` have a similar effect. Details for these 2 heuristic searches are explained in the appendix of our paper. "
   ]
  },
  {
   "cell_type": "markdown",
   "metadata": {},
   "source": [
    "## Gotcha 3: Do you have enough memory (RAM)?\n",
    "\n",
    "While MendelImpute uses the least RAM compared to competing softwares (as of 2020), it is still possible for large imputation problems to consume all available RAM. If this happens, Julia will first try to use `swap` before crashing (until all of `swap` is consumed). Monitor your RAM usage constantly to make sure this doesn't happen. On Mac/Linux machines, the `top` or `htop` command will monitor this information. Alternatively, the `/usr/bin/time` command will automatically records max RAM usage for job and whether any `swap` had been performed. \n",
    "\n",
    "### Rough estimate for amount of RAM needed\n",
    "\n",
    "There are 4 things that require lots of memory:\n",
    "+ The target genotype matrix $\\mathbf{X}_{n \\times p}$ requires $n \\times p \\times 8$ bits. If $\\mathbf{X}$ is dosage data, then you need instead $n \\times p \\times 32$ bits\n",
    "+ The matrix $\\mathbf{M}_{d \\times d}$ requires $c \\times d \\times d \\times 32$ bits, where $c$ is the number of parallel threads used and $d$ is the number specified in the [compress_haplotypes](https://biona001.github.io/MendelImpute/dev/man/api/#MendelImpute.compress_haplotypes) function.\n",
    "+ The matrix $\\mathbf{N}_{n \\times d}$ requires $c \\times n \\times d \\times 32$ bits, where $c$ is the number of parallel threads used and $d$ is the number specified in the [compress_haplotypes](https://biona001.github.io/MendelImpute/dev/man/api/#MendelImpute.compress_haplotypes) function.\n",
    "+ The compressed reference haplotype panel produced by the [compress_haplotypes](https://biona001.github.io/MendelImpute/dev/man/api/#MendelImpute.compress_haplotypes) function. This typically requires about $3r$ gigabytes of RAM where $r$ is your panel's size in `.vcf.gz`. "
   ]
  },
  {
   "cell_type": "markdown",
   "metadata": {},
   "source": [
    "If you do not have the above issues and your code is still running slow, file an issue on GitHub and we will take a look at it ASAP. "
   ]
  }
 ],
 "metadata": {
  "kernelspec": {
   "display_name": "Julia 1.5.0",
   "language": "julia",
   "name": "julia-1.5"
  },
  "language_info": {
   "file_extension": ".jl",
   "mimetype": "application/julia",
   "name": "julia",
   "version": "1.5.0"
  }
 },
 "nbformat": 4,
 "nbformat_minor": 2
}
